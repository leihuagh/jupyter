{
  "nbformat": 4,
  "nbformat_minor": 0,
  "metadata": {
    "colab": {
      "name": "factorization.ipynb",
      "version": "0.3.2",
      "provenance": [],
      "collapsed_sections": [],
      "include_colab_link": true
    },
    "kernelspec": {
      "name": "python3",
      "display_name": "Python 3"
    }
  },
  "cells": [
    {
      "cell_type": "markdown",
      "metadata": {
        "id": "view-in-github",
        "colab_type": "text"
      },
      "source": [
        "<a href=\"https://colab.research.google.com/github/porkostomus/jupyter/blob/master/factorization.ipynb\" target=\"_parent\"><img src=\"https://colab.research.google.com/assets/colab-badge.svg\" alt=\"Open In Colab\"/></a>"
      ]
    },
    {
      "metadata": {
        "id": "I_7VEim-qxFW",
        "colab_type": "text"
      },
      "cell_type": "markdown",
      "source": [
        "If $a + b = -2$ and $x + y = -2$,\n",
        "\n",
        "what is $4x + 5a + 4y + 5b$?\n",
        "\n",
        "\n",
        "\n",
        "$= 5a + 5b + 4x + 4y$\n",
        "\n",
        "$= (5) \\cdot (a + b) + (4) \\cdot (x + y)$\n",
        "\n",
        "$= (5) \\cdot (-2) + (4) \\cdot (-2)$\n",
        "\n",
        "$= -10 - 8$\n",
        "\n",
        "$= -18$"
      ]
    },
    {
      "metadata": {
        "id": "hUbuIkUooT1K",
        "colab_type": "code",
        "outputId": "9ef6e68e-7ee5-4e39-d25c-76b290be1bbd",
        "colab": {
          "base_uri": "https://localhost:8080/",
          "height": 35
        }
      },
      "cell_type": "code",
      "source": [
        "from sympy import *\n",
        "\n",
        "a, b, c, x, y, z, h, n, m = symbols('a b c x y z h n m')\n",
        "\n",
        "factor(x**2 + 6*x + 9)"
      ],
      "execution_count": 1,
      "outputs": [
        {
          "output_type": "execute_result",
          "data": {
            "text/plain": [
              "(x + 3)**2"
            ]
          },
          "metadata": {
            "tags": []
          },
          "execution_count": 1
        }
      ]
    },
    {
      "metadata": {
        "id": "BXimBziNtIqp",
        "colab_type": "code",
        "outputId": "5ae91c41-e5a4-47af-e081-29983dd671eb",
        "colab": {
          "base_uri": "https://localhost:8080/",
          "height": 35
        }
      },
      "cell_type": "code",
      "source": [
        "(x - 5)**2/4"
      ],
      "execution_count": 0,
      "outputs": [
        {
          "output_type": "execute_result",
          "data": {
            "text/plain": [
              "(x - 5)**2/4"
            ]
          },
          "metadata": {
            "tags": []
          },
          "execution_count": 8
        }
      ]
    },
    {
      "metadata": {
        "id": "DUa2HN1htzdj",
        "colab_type": "code",
        "outputId": "4d334048-0212-4434-a087-12270f6457d7",
        "colab": {
          "base_uri": "https://localhost:8080/",
          "height": 35
        }
      },
      "cell_type": "code",
      "source": [
        "factor(2*x + 2*y)"
      ],
      "execution_count": 0,
      "outputs": [
        {
          "output_type": "execute_result",
          "data": {
            "text/plain": [
              "2*(x + y)"
            ]
          },
          "metadata": {
            "tags": []
          },
          "execution_count": 12
        }
      ]
    },
    {
      "metadata": {
        "id": "WPwyspNeZqyl",
        "colab_type": "code",
        "outputId": "9304fc0a-257d-4f06-b2a3-47fa1d728de5",
        "colab": {
          "base_uri": "https://localhost:8080/",
          "height": 35
        }
      },
      "cell_type": "code",
      "source": [
        "-9*(-2)"
      ],
      "execution_count": 0,
      "outputs": [
        {
          "output_type": "execute_result",
          "data": {
            "text/plain": [
              "18"
            ]
          },
          "metadata": {
            "tags": []
          },
          "execution_count": 13
        }
      ]
    },
    {
      "metadata": {
        "id": "Lg76iEH3Z14v",
        "colab_type": "code",
        "outputId": "e8a8aba0-89ef-44c3-d74b-7000a98162db",
        "colab": {
          "base_uri": "https://localhost:8080/",
          "height": 35
        }
      },
      "cell_type": "code",
      "source": [
        "2*(10)"
      ],
      "execution_count": 0,
      "outputs": [
        {
          "output_type": "execute_result",
          "data": {
            "text/plain": [
              "20"
            ]
          },
          "metadata": {
            "tags": []
          },
          "execution_count": 14
        }
      ]
    },
    {
      "metadata": {
        "id": "cnF8XNx3Z7-8",
        "colab_type": "code",
        "outputId": "eae35e69-5093-440c-d0d3-94d5aeefe46f",
        "colab": {
          "base_uri": "https://localhost:8080/",
          "height": 35
        }
      },
      "cell_type": "code",
      "source": [
        "factor(n**4 + 8*n**2 + 15)"
      ],
      "execution_count": 0,
      "outputs": [
        {
          "output_type": "execute_result",
          "data": {
            "text/plain": [
              "(n**2 + 3)*(n**2 + 5)"
            ]
          },
          "metadata": {
            "tags": []
          },
          "execution_count": 25
        }
      ]
    },
    {
      "metadata": {
        "id": "hzhOfUqIcT_j",
        "colab_type": "code",
        "outputId": "0f396ec7-acba-48df-eef3-cd7294ffc9e6",
        "colab": {
          "base_uri": "https://localhost:8080/",
          "height": 35
        }
      },
      "cell_type": "code",
      "source": [
        "factor(6*h**4 - 21*h**3 -45*h**2)"
      ],
      "execution_count": 0,
      "outputs": [
        {
          "output_type": "execute_result",
          "data": {
            "text/plain": [
              "3*h**2*(h - 5)*(2*h + 3)"
            ]
          },
          "metadata": {
            "tags": []
          },
          "execution_count": 3
        }
      ]
    },
    {
      "metadata": {
        "id": "-ombI3FhBK0P",
        "colab_type": "code",
        "colab": {}
      },
      "cell_type": "code",
      "source": [
        ""
      ],
      "execution_count": 0,
      "outputs": []
    },
    {
      "metadata": {
        "id": "rcg2HQ1Pi6QW",
        "colab_type": "text"
      },
      "cell_type": "markdown",
      "source": [
        "## Perfect squares"
      ]
    },
    {
      "metadata": {
        "id": "qKwrfBuzfoce",
        "colab_type": "text"
      },
      "cell_type": "markdown",
      "source": [
        "A square has an area of $x^2-10x+25$ square meters.\n",
        "\n",
        "**What expression represents the length of one side of the square?**"
      ]
    },
    {
      "metadata": {
        "id": "g41Ng38agESG",
        "colab_type": "text"
      },
      "cell_type": "markdown",
      "source": [
        "Both $x^2$ and $25$ are perfect squares, since $x^2=({x})^2$ and $25=({5})^2$.\n",
        "\n",
        "Additionally, $10x$ is twice the product of the roots of $x^2$ and $25$, since $10x=2( x)( 5)$.\n",
        "\n",
        "$x^2-10x+25 = ({x})^2-2( x)( 5)+({5})^2$\n",
        "\n",
        "So we can use the *square of a difference* pattern to factor:\n",
        "\n",
        "${a}^2 -2( a)( b)+ {b}^2 =({a}-{b})^2$\n",
        "\n",
        "In this case, ${a}={x}$ and ${b}={5}$:\n",
        "\n",
        "$({x})^2-2( x)( 5)+({5})^2 =({x}-{5})^2$\n",
        "\n",
        "In conclusion,\n",
        "\n",
        "$x^2-10x+25=(x-5)^2$\n",
        "\n",
        "So the $\\text{Side length}$ of the square is $x-5$ meters.\n",
        "\n",
        "***Remember that you can always check your factorization by expanding it.***"
      ]
    },
    {
      "metadata": {
        "id": "qXQwpGPwf5xh",
        "colab_type": "code",
        "colab": {}
      },
      "cell_type": "code",
      "source": [
        ""
      ],
      "execution_count": 0,
      "outputs": []
    }
  ]
}