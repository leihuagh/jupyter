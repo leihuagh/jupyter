{
  "nbformat": 4,
  "nbformat_minor": 0,
  "metadata": {
    "colab": {
      "name": "graphing-quadratics.ipynb",
      "version": "0.3.2",
      "provenance": [],
      "collapsed_sections": [],
      "include_colab_link": true
    },
    "kernelspec": {
      "name": "python3",
      "display_name": "Python 3"
    }
  },
  "cells": [
    {
      "cell_type": "markdown",
      "metadata": {
        "id": "view-in-github",
        "colab_type": "text"
      },
      "source": [
        "<a href=\"https://colab.research.google.com/github/porkostomus/jupyter/blob/master/graphing_quadratics.ipynb\" target=\"_parent\"><img src=\"https://colab.research.google.com/assets/colab-badge.svg\" alt=\"Open In Colab\"/></a>"
      ]
    },
    {
      "metadata": {
        "id": "LuKr6KbLTR1M",
        "colab_type": "text"
      },
      "cell_type": "markdown",
      "source": [
        "## Graphing quadratics in factored form\n",
        "\n",
        "$y=(x-2)(x-6)$\n",
        "\n",
        "1.   What is the vertex of the parabola?\n",
        "2.   Graph the function.\n",
        "\n",
        "\\begin{aligned} (x-2)&(x-6)=0 \\\\\\\\ \\swarrow\\quad&\\quad\\searrow \\\\\\\\ x-2=0\\quad&\\quad x-6=0 \\\\\\\\ x={2}\\quad&\\quad x={6} \\end{aligned}\n",
        "\n",
        "The vertex's $x$-coordinate is always exactly between the two zeros:\n",
        "\n",
        "$\\text{vertex's }x\\text{-coordinate}=\\dfrac{{2}+{6}}{2}={4}$\n",
        "\n",
        "To find the vertex's $y$-coordinate, we can plug $x={4}$ into the expression:\n",
        "\n",
        "\\begin{aligned} &\\phantom{=}({4}-2)({4}-6) \\\\\\\\ &=(-2)(2) \\\\\\\\ &=-4 \\end{aligned} \n",
        "\n",
        "So the vertex of the parabola is at\n",
        "$(4,-4)$\n",
        "\n",
        "In order to graph, we need the vertex and another point. That other point can be one of the zeros we found, like $(6,0)$."
      ]
    },
    {
      "metadata": {
        "id": "uM1c0OZ0TME_",
        "colab_type": "code",
        "colab": {
          "base_uri": "https://localhost:8080/",
          "height": 35
        },
        "outputId": "accc2f69-efd6-4e24-b22a-b8aab6739993"
      },
      "cell_type": "code",
      "source": [
        "5 + -1"
      ],
      "execution_count": 5,
      "outputs": [
        {
          "output_type": "execute_result",
          "data": {
            "text/plain": [
              "4"
            ]
          },
          "metadata": {
            "tags": []
          },
          "execution_count": 5
        }
      ]
    },
    {
      "metadata": {
        "id": "9mbwZYMfWpos",
        "colab_type": "code",
        "colab": {
          "base_uri": "https://localhost:8080/",
          "height": 35
        },
        "outputId": "233f2bd6-fb05-4fb0-f14a-53638a79091b"
      },
      "cell_type": "code",
      "source": [
        "4/2"
      ],
      "execution_count": 6,
      "outputs": [
        {
          "output_type": "execute_result",
          "data": {
            "text/plain": [
              "2.0"
            ]
          },
          "metadata": {
            "tags": []
          },
          "execution_count": 6
        }
      ]
    },
    {
      "metadata": {
        "id": "VrH-2AT3Wuit",
        "colab_type": "code",
        "colab": {
          "base_uri": "https://localhost:8080/",
          "height": 35
        },
        "outputId": "f7f82a56-5c65-421e-d3f7-0a667455595a"
      },
      "cell_type": "code",
      "source": [
        "(-5 + 3)*(-5 + 7)"
      ],
      "execution_count": 8,
      "outputs": [
        {
          "output_type": "execute_result",
          "data": {
            "text/plain": [
              "-4"
            ]
          },
          "metadata": {
            "tags": []
          },
          "execution_count": 8
        }
      ]
    },
    {
      "metadata": {
        "id": "aiRGAzJQW8l2",
        "colab_type": "code",
        "colab": {}
      },
      "cell_type": "code",
      "source": [
        ""
      ],
      "execution_count": 0,
      "outputs": []
    }
  ]
}