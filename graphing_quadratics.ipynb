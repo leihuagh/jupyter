{
  "nbformat": 4,
  "nbformat_minor": 0,
  "metadata": {
    "colab": {
      "name": "graphing-quadratics.ipynb",
      "version": "0.3.2",
      "provenance": [],
      "collapsed_sections": [],
      "include_colab_link": true
    },
    "kernelspec": {
      "name": "python3",
      "display_name": "Python 3"
    }
  },
  "cells": [
    {
      "cell_type": "markdown",
      "metadata": {
        "id": "view-in-github",
        "colab_type": "text"
      },
      "source": [
        "<a href=\"https://colab.research.google.com/github/porkostomus/jupyter/blob/master/graphing_quadratics.ipynb\" target=\"_parent\"><img src=\"https://colab.research.google.com/assets/colab-badge.svg\" alt=\"Open In Colab\"/></a>"
      ]
    },
    {
      "metadata": {
        "id": "IQN63OMlr0fe",
        "colab_type": "text"
      },
      "cell_type": "markdown",
      "source": [
        "## Graphing quadratics in factored form\n",
        "\n",
        "$y=(x-2)(x-6)$\n",
        "\n",
        "1.   What is the vertex of the parabola?\n",
        "2.   Graph the function."
      ]
    },
    {
      "metadata": {
        "id": "Mqjk9TV2r6wm",
        "colab_type": "code",
        "colab": {
          "base_uri": "https://localhost:8080/",
          "height": 35
        },
        "outputId": "e06cd755-bf42-49a4-8fd2-882044c4999f"
      },
      "cell_type": "code",
      "source": [
        "from sympy import *\n",
        "\n",
        "x = Symbol('x')\n",
        "\n",
        "coeff = 1\n",
        "term1 = -2\n",
        "term2 = -6\n",
        "y = coeff * (x + term1)*(x + term2)\n",
        "y"
      ],
      "execution_count": 19,
      "outputs": [
        {
          "output_type": "execute_result",
          "data": {
            "text/plain": [
              "(x - 6)*(x - 2)"
            ]
          },
          "metadata": {
            "tags": []
          },
          "execution_count": 19
        }
      ]
    },
    {
      "metadata": {
        "id": "M0Fp1RA5tQFD",
        "colab_type": "text"
      },
      "cell_type": "markdown",
      "source": [
        "\\begin{aligned} (x-2)&(x-6)=0 \\\\\\\\ \\swarrow\\quad&\\quad\\searrow \\\\\\\\ x-2=0\\quad&\\quad x-6=0 \\\\\\\\ x={2}\\quad&\\quad x={6} \\end{aligned}"
      ]
    },
    {
      "metadata": {
        "id": "UN0nduNotV72",
        "colab_type": "code",
        "colab": {}
      },
      "cell_type": "code",
      "source": [
        "zero1 = solveset(Eq(x + term1))"
      ],
      "execution_count": 0,
      "outputs": []
    },
    {
      "metadata": {
        "id": "JNGTd58-tYGO",
        "colab_type": "code",
        "colab": {}
      },
      "cell_type": "code",
      "source": [
        "zero2 = solveset(Eq(x + term2))"
      ],
      "execution_count": 0,
      "outputs": []
    },
    {
      "metadata": {
        "id": "bjiGWl-jtsb1",
        "colab_type": "text"
      },
      "cell_type": "markdown",
      "source": [
        "The vertex's $x$-coordinate is always exactly between the two zeros:\n",
        "\n",
        "$\\text{vertex's }x\\text{-coordinate}=\\dfrac{{2}+{6}}{2}={4}$"
      ]
    },
    {
      "metadata": {
        "id": "_VZvfOeRtu2f",
        "colab_type": "code",
        "colab": {}
      },
      "cell_type": "code",
      "source": [
        "vertx = sum(zero1 + zero2) / 2"
      ],
      "execution_count": 0,
      "outputs": []
    },
    {
      "metadata": {
        "id": "NW0fpFMUuaFT",
        "colab_type": "text"
      },
      "cell_type": "markdown",
      "source": [
        "To find the vertex's $y$-coordinate, we can plug $x={4}$ into the expression:\n",
        "\n",
        "\\begin{aligned} &\\phantom{=}({4}-2)({4}-6) \\\\\\\\ &=(-2)(2) \\\\\\\\ &=-4 \\end{aligned} "
      ]
    },
    {
      "metadata": {
        "id": "P60vanpUutO2",
        "colab_type": "code",
        "colab": {
          "base_uri": "https://localhost:8080/",
          "height": 35
        },
        "outputId": "f51e6c01-7fef-419d-e74d-23497d8acae2"
      },
      "cell_type": "code",
      "source": [
        "y.subs(x, vertx)"
      ],
      "execution_count": 22,
      "outputs": [
        {
          "output_type": "execute_result",
          "data": {
            "text/plain": [
              "-4"
            ]
          },
          "metadata": {
            "tags": []
          },
          "execution_count": 22
        }
      ]
    },
    {
      "metadata": {
        "id": "LuKr6KbLTR1M",
        "colab_type": "text"
      },
      "cell_type": "markdown",
      "source": [
        "So the vertex of the parabola is at\n",
        "$(4,-4)$\n",
        "\n",
        "In order to graph, we need the vertex and another point. That other point can be one of the zeros we found, like $(6,0)$."
      ]
    },
    {
      "metadata": {
        "id": "Et99bgf1s2fY",
        "colab_type": "text"
      },
      "cell_type": "markdown",
      "source": [
        "**Graph the function.**\n",
        "\n",
        "$f(x)=\\dfrac{3}{8}(x -1)(x -9)$\n",
        "\n",
        "### Finding the zeros\n",
        "\n",
        "\\begin{aligned} \\dfrac{3}{8}(x -1)&(x -9)=0 \\\\\\\\ \\swarrow\\quad&\\quad\\searrow \\\\\\\\ x -1=0\\quad&\\quad x -9=0 \\\\\\\\ x={1}\\quad&\\quad x={9} \\end{aligned}\n",
        "\n",
        "### Finding the vertex\n",
        "\n",
        "The vertex's $x$-coordinate is always exactly between the two zeros:\n",
        "\n",
        "$\\text{vertex's }x\\text{-coordinate}=\\dfrac{{1}+{9}}{2}={5}$\n",
        "\n",
        "To find the vertex's $y$-coordinate, we can plug $x={5}$ into $f$:\n",
        "\n",
        "\\begin{aligned} f(5)&=\\dfrac{3}{8}({5} -1)({5} -9) \\\\\\\\ &=\\dfrac{3}{8}(4)(-4) \\\\\\\\ &=-6 \\end{aligned}\n",
        "\n",
        "### Graphing\n",
        "\n",
        "So the vertex is at $(5,-6)$.\n",
        "\n",
        "In order to graph, we need the vertex and another point. That other point can be one of the zeros we found, like $(1,0)$."
      ]
    },
    {
      "metadata": {
        "id": "uM1c0OZ0TME_",
        "colab_type": "code",
        "outputId": "0a31c535-ae00-41fd-de71-dcfb6921a786",
        "colab": {
          "base_uri": "https://localhost:8080/",
          "height": 35
        }
      },
      "cell_type": "code",
      "source": [
        "(1 + -7) / 2"
      ],
      "execution_count": 1,
      "outputs": [
        {
          "output_type": "execute_result",
          "data": {
            "text/plain": [
              "-3.0"
            ]
          },
          "metadata": {
            "tags": []
          },
          "execution_count": 1
        }
      ]
    },
    {
      "metadata": {
        "id": "VrH-2AT3Wuit",
        "colab_type": "code",
        "outputId": "f7f82a56-5c65-421e-d3f7-0a667455595a",
        "colab": {
          "base_uri": "https://localhost:8080/",
          "height": 35
        }
      },
      "cell_type": "code",
      "source": [
        "(-5 + 3)*(-5 + 7)"
      ],
      "execution_count": 0,
      "outputs": [
        {
          "output_type": "execute_result",
          "data": {
            "text/plain": [
              "-4"
            ]
          },
          "metadata": {
            "tags": []
          },
          "execution_count": 8
        }
      ]
    },
    {
      "metadata": {
        "id": "8aCyODF8wg-N",
        "colab_type": "text"
      },
      "cell_type": "markdown",
      "source": [
        "**Graph the equation.**\n",
        "\n",
        "$y=\\dfrac{2}{3}(x +7)(x +1)$"
      ]
    },
    {
      "metadata": {
        "id": "aiRGAzJQW8l2",
        "colab_type": "code",
        "colab": {
          "base_uri": "https://localhost:8080/",
          "height": 35
        },
        "outputId": "bb5f3a97-54de-40f0-b7c5-693c4a002d5c"
      },
      "cell_type": "code",
      "source": [
        "coeff = Rational(2,3)\n",
        "term1 = 7\n",
        "term2 = 1\n",
        "y = coeff * (x + term1)*(x + term2)\n",
        "zero1 = solveset(Eq(x + term1))\n",
        "zero2 = solveset(Eq(x + term2))\n",
        "vertx = sum(zero1 + zero2) / 2\n",
        "verty = y.subs(x, vertx)\n",
        "vertex = (vertx, verty);\n",
        "vertex"
      ],
      "execution_count": 38,
      "outputs": [
        {
          "output_type": "execute_result",
          "data": {
            "text/plain": [
              "(-4, -6)"
            ]
          },
          "metadata": {
            "tags": []
          },
          "execution_count": 38
        }
      ]
    },
    {
      "metadata": {
        "id": "EWNaJbG1xrg4",
        "colab_type": "code",
        "colab": {
          "base_uri": "https://localhost:8080/",
          "height": 35
        },
        "outputId": "83341772-1a30-4d33-b1cc-cb6d46684dd0"
      },
      "cell_type": "code",
      "source": [
        "zero1 + zero2"
      ],
      "execution_count": 27,
      "outputs": [
        {
          "output_type": "execute_result",
          "data": {
            "text/plain": [
              "{-7, -1}"
            ]
          },
          "metadata": {
            "tags": []
          },
          "execution_count": 27
        }
      ]
    },
    {
      "metadata": {
        "id": "uLZfIiPLyg-A",
        "colab_type": "text"
      },
      "cell_type": "markdown",
      "source": [
        "**Graph the function.**\n",
        "\n",
        "$f(x)=-\\dfrac{2}{3}(x +1)(x -5)$"
      ]
    },
    {
      "metadata": {
        "id": "p2zmP8w4yFMd",
        "colab_type": "code",
        "colab": {
          "base_uri": "https://localhost:8080/",
          "height": 35
        },
        "outputId": "5742bdca-8dc6-433f-89db-6919533acbcc"
      },
      "cell_type": "code",
      "source": [
        "coeff = -Rational(2,3)\n",
        "term1 = 1\n",
        "term2 = -5\n",
        "y = coeff * (x + term1)*(x + term2)\n",
        "zero1 = solveset(Eq(x + term1))\n",
        "zero2 = solveset(Eq(x + term2))\n",
        "vertx = sum(zero1 + zero2) / 2\n",
        "verty = y.subs(x, vertx)\n",
        "vertex = (vertx, verty);\n",
        "graph = {'Vertex': vertex, 'Zeros': zero1 + zero2}\n",
        "graph"
      ],
      "execution_count": 43,
      "outputs": [
        {
          "output_type": "execute_result",
          "data": {
            "text/plain": [
              "{'Vertex': (2, 6), 'Zeros': {-1, 5}}"
            ]
          },
          "metadata": {
            "tags": []
          },
          "execution_count": 43
        }
      ]
    }
  ]
}