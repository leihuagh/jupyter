{
  "nbformat": 4,
  "nbformat_minor": 0,
  "metadata": {
    "colab": {
      "name": "analyzing-structure-with-linear-inequalities.ipynb",
      "version": "0.3.2",
      "provenance": [],
      "collapsed_sections": [],
      "include_colab_link": true
    },
    "kernelspec": {
      "name": "python3",
      "display_name": "Python 3"
    }
  },
  "cells": [
    {
      "cell_type": "markdown",
      "metadata": {
        "id": "view-in-github",
        "colab_type": "text"
      },
      "source": [
        "<a href=\"https://colab.research.google.com/github/porkostomus/jupyter/blob/master/analyzing_structure_with_linear_inequalities.ipynb\" target=\"_parent\"><img src=\"https://colab.research.google.com/assets/colab-badge.svg\" alt=\"Open In Colab\"/></a>"
      ]
    },
    {
      "metadata": {
        "id": "a0dt1bmksfnZ",
        "colab_type": "text"
      },
      "cell_type": "markdown",
      "source": [
        "# Analyzing structure with linear inequalities"
      ]
    },
    {
      "metadata": {
        "id": "EDb9bHyf4sXL",
        "colab_type": "text"
      },
      "cell_type": "markdown",
      "source": [
        "## Green and blue balls in a bag\n",
        "\n",
        "A bag has more green balls than blue balls, and there is at least one blue ball.\n",
        "\n",
        "Let $b$ represent the number of blue balls and let $g$ represent the number of green balls.\n",
        "\n",
        "**Let's compare the expressions $2b$ and $b + g$.**"
      ]
    },
    {
      "metadata": {
        "id": "ddL9iuhI5U5k",
        "colab_type": "code",
        "colab": {}
      },
      "cell_type": "code",
      "source": [
        "from sympy import *\n",
        "b, g = symbols('b g')\n",
        "exp1 = 2*b\n",
        "exp2 = b + g"
      ],
      "execution_count": 0,
      "outputs": []
    },
    {
      "metadata": {
        "id": "HNEMg8SAuehh",
        "colab_type": "code",
        "outputId": "b3c42d5f-d932-45f8-d8e5-624d362d6775",
        "colab": {
          "base_uri": "https://localhost:8080/",
          "height": 35
        }
      },
      "cell_type": "code",
      "source": [
        "exp1 > exp2"
      ],
      "execution_count": 0,
      "outputs": [
        {
          "output_type": "execute_result",
          "data": {
            "text/plain": [
              "2*b > b + g"
            ]
          },
          "metadata": {
            "tags": []
          },
          "execution_count": 3
        }
      ]
    },
    {
      "metadata": {
        "id": "v4Howh3E6ISU",
        "colab_type": "text"
      },
      "cell_type": "markdown",
      "source": [
        "### Interpreting and comparing the expressions\n",
        "\n",
        "Let's try to think what each expression means in terms of the number of balls in the bag:\n",
        "\n",
        "* $2b = b+ b$ represents twice the number of blue balls in the bag.\n",
        "* $b + g$ represents the total number of balls in the bag.\n",
        "\n",
        "Since there are fewer blue balls than green balls, it must be true that the total number of balls is larger than twice the number of blue balls. This can be expressed algebraically as $g>b$. Therefore,\n",
        "\n",
        "$g+b>b>b+b$\n",
        "\n",
        "and\n",
        "\n",
        "$2b<b + g$"
      ]
    },
    {
      "metadata": {
        "id": "bPH2hfDLOxm7",
        "colab_type": "text"
      },
      "cell_type": "markdown",
      "source": [
        "## Boys and girls pencils\n",
        "\n",
        "A classroom has more boys than girls, and it has $8$ girls. Furthermore, each student in the classroom has at least $2$ pencils.\n",
        "\n",
        "Let $b$ represent the number of boys and let $p$ represent the total number of pencils in the classroom.\n",
        "\n",
        "**Let's compare the expressions $p$ and $30$.**"
      ]
    },
    {
      "metadata": {
        "id": "DQjQtpsRP3Eq",
        "colab_type": "text"
      },
      "cell_type": "markdown",
      "source": [
        "Let's try to express the least number of pencils using the number of boys in the class. Then, we will be able to compare the expression we got with $30$ to see if $p$ is necessarily smaller or larger than that.\n",
        "\n",
        "### Finding the least total number of pencils\n",
        "\n",
        "Let's find an expression for the total number of pencils when there are exactly $2$ pencils per students. Since each student has at least that, this must be a low bound for $p$.\n",
        "\n",
        "The total number of students is $(b+8)$, so when each student has $2$ pencils, there are $2(b+8)$ pencils in total.\n",
        "\n",
        "Furthermore, since there are more boys than girls, $b$ is at least equal to $9$. This means the total number of pencils is at least $2(9+8)=34$. Since this is already greater than $30$, we know $p$ must be larger than $30$.\n",
        "\n",
        "Therefore,\n",
        "\n",
        "$p>30$"
      ]
    },
    {
      "metadata": {
        "id": "Aq-TCwQbcE9m",
        "colab_type": "text"
      },
      "cell_type": "markdown",
      "source": [
        "## Rose and daisy petals\n",
        "\n",
        "A garden has more roses than daisies, and it has $9$ daisies. Furthermore, each flower in the garden has more than $3$ petals.\n",
        "\n",
        "Let $r$ represent the number of roses and let $p$ represent the total number of petals in the garden.\n",
        "\n",
        "**Let's compare the expressions $p$ and $3(r+9)$.**\n",
        "\n",
        "Let's try to express the least number of petals using the number of roses in the garden. Then, we will be able to compare the expression we got with $3(r+9)$ to see if $p$ is necessarily smaller or larger than that.\n",
        "\n",
        "### Finding the least total number of petals\n",
        "\n",
        "Let's find an expression for the total number of petals when there are exactly $3$ petals per flower. Since each flower has more than that, this must be a low bound for $p$.\n",
        "\n",
        "The total number of flowers is $(r+9)$, so when each flower has $3$ petals, there are $3(r+9)$ in total.\n",
        "\n",
        "This is the second expression exactly! Since we already noted that $p$ must be larger than what we found, we conclude that $p$ is larger than $3(r+9)$.\n",
        "\n",
        "$p>3(r+9)$"
      ]
    },
    {
      "metadata": {
        "id": "yhmg5fVDeRpZ",
        "colab_type": "code",
        "colab": {}
      },
      "cell_type": "code",
      "source": [
        ""
      ],
      "execution_count": 0,
      "outputs": []
    }
  ]
}