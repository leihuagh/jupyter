{
  "nbformat": 4,
  "nbformat_minor": 0,
  "metadata": {
    "colab": {
      "name": "analyzing-structure-with-linear-inequalities.ipynb",
      "version": "0.3.2",
      "provenance": [],
      "collapsed_sections": [],
      "include_colab_link": true
    },
    "kernelspec": {
      "name": "python3",
      "display_name": "Python 3"
    }
  },
  "cells": [
    {
      "cell_type": "markdown",
      "metadata": {
        "id": "view-in-github",
        "colab_type": "text"
      },
      "source": [
        "<a href=\"https://colab.research.google.com/github/porkostomus/jupyter/blob/master/analyzing_structure_with_linear_inequalities.ipynb\" target=\"_parent\"><img src=\"https://colab.research.google.com/assets/colab-badge.svg\" alt=\"Open In Colab\"/></a>"
      ]
    },
    {
      "metadata": {
        "id": "a0dt1bmksfnZ",
        "colab_type": "text"
      },
      "cell_type": "markdown",
      "source": [
        "# Analyzing structure with linear inequalities"
      ]
    },
    {
      "metadata": {
        "id": "EDb9bHyf4sXL",
        "colab_type": "text"
      },
      "cell_type": "markdown",
      "source": [
        "## Green and blue balls in a bag\n",
        "\n",
        "A bag has more green balls than blue balls, and there is at least one blue ball.\n",
        "\n",
        "Let $b$ represent the number of blue balls and let $g$ represent the number of green balls.\n",
        "\n",
        "**Let's compare the expressions $2b$ and $b + g$.**"
      ]
    },
    {
      "metadata": {
        "id": "ddL9iuhI5U5k",
        "colab_type": "code",
        "colab": {}
      },
      "cell_type": "code",
      "source": [
        "from sympy import *\n",
        "b, g = symbols('b g')\n",
        "exp1 = 2*b\n",
        "exp2 = b + g"
      ],
      "execution_count": 0,
      "outputs": []
    },
    {
      "metadata": {
        "id": "HNEMg8SAuehh",
        "colab_type": "code",
        "colab": {
          "base_uri": "https://localhost:8080/",
          "height": 35
        },
        "outputId": "b3c42d5f-d932-45f8-d8e5-624d362d6775"
      },
      "cell_type": "code",
      "source": [
        "exp1 > exp2"
      ],
      "execution_count": 3,
      "outputs": [
        {
          "output_type": "execute_result",
          "data": {
            "text/plain": [
              "2*b > b + g"
            ]
          },
          "metadata": {
            "tags": []
          },
          "execution_count": 3
        }
      ]
    },
    {
      "metadata": {
        "id": "v4Howh3E6ISU",
        "colab_type": "text"
      },
      "cell_type": "markdown",
      "source": [
        "### Interpreting and comparing the expressions\n",
        "\n",
        "Let's try to think what each expression means in terms of the number of balls in the bag:\n",
        "\n",
        "* $2b = b+ b$ represents twice the number of blue balls in the bag.\n",
        "* $b + g$ represents the total number of balls in the bag.\n",
        "\n",
        "Since there are fewer blue balls than green balls, it must be true that the total number of balls is larger than twice the number of blue balls. This can be expressed algebraically as $g>b$. Therefore,\n",
        "\n",
        "$g+b>b>b+b$\n",
        "\n",
        "and\n",
        "\n",
        "$2b<b + g$"
      ]
    },
    {
      "metadata": {
        "id": "CaEMpUUwwwKk",
        "colab_type": "code",
        "colab": {}
      },
      "cell_type": "code",
      "source": [
        ""
      ],
      "execution_count": 0,
      "outputs": []
    }
  ]
}