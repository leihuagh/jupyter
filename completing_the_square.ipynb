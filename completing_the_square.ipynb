{
  "nbformat": 4,
  "nbformat_minor": 0,
  "metadata": {
    "colab": {
      "name": "completing-the-square.ipynb",
      "version": "0.3.2",
      "provenance": [],
      "collapsed_sections": [],
      "include_colab_link": true
    },
    "kernelspec": {
      "name": "python3",
      "display_name": "Python 3"
    }
  },
  "cells": [
    {
      "cell_type": "markdown",
      "metadata": {
        "id": "view-in-github",
        "colab_type": "text"
      },
      "source": [
        "<a href=\"https://colab.research.google.com/github/porkostomus/jupyter/blob/master/completing_the_square.ipynb\" target=\"_parent\"><img src=\"https://colab.research.google.com/assets/colab-badge.svg\" alt=\"Open In Colab\"/></a>"
      ]
    },
    {
      "metadata": {
        "id": "Lc9dFy28J8cb",
        "colab_type": "text"
      },
      "cell_type": "markdown",
      "source": [
        "**Rewrite the equation by completing the square.**\n",
        "\n",
        "$x^2 + x -72=0$\n",
        "\n",
        "$x^2 + x=72$\n",
        "\n",
        "Complete $x^2 +x$ into a perfect square by adding $\\left(\\dfrac{+1}{2}\\right)^2={\\dfrac{1}{4}}$ to it:\n",
        "\n",
        "$x^2+x + {\\dfrac{1}{4}}=\\left(x +\\dfrac{1}{2} \\right)^2$\n",
        "\n",
        "$x^2 + x=72$\n",
        "\n",
        "$x^2 + x + {\\dfrac{1}{4}}=72 + {\\dfrac{1}{4}}$\n",
        "\n",
        "$\\left(x +\\dfrac{1}{2}\\right)^2=\\dfrac{289}{4}$"
      ]
    },
    {
      "metadata": {
        "id": "JwhqtcuzJE6S",
        "colab_type": "code",
        "colab": {}
      },
      "cell_type": "code",
      "source": [
        ""
      ],
      "execution_count": 0,
      "outputs": []
    }
  ]
}