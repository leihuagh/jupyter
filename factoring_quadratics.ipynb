{
  "nbformat": 4,
  "nbformat_minor": 0,
  "metadata": {
    "colab": {
      "name": "factoring-quadratics.ipynb",
      "version": "0.3.2",
      "provenance": [],
      "collapsed_sections": [],
      "include_colab_link": true
    },
    "kernelspec": {
      "name": "python3",
      "display_name": "Python 3"
    }
  },
  "cells": [
    {
      "cell_type": "markdown",
      "metadata": {
        "id": "view-in-github",
        "colab_type": "text"
      },
      "source": [
        "<a href=\"https://colab.research.google.com/github/porkostomus/jupyter/blob/master/factoring_quadratics.ipynb\" target=\"_parent\"><img src=\"https://colab.research.google.com/assets/colab-badge.svg\" alt=\"Open In Colab\"/></a>"
      ]
    },
    {
      "metadata": {
        "id": "gVV7OZ1UoCPf",
        "colab_type": "text"
      },
      "cell_type": "markdown",
      "source": [
        "## Solve equations using structure\n",
        "\n",
        "Let $p=4x-7$.\n",
        "\n",
        "**Which equation is equivalent to $(4x-7)^2+16=40x-70$ in terms of $p$ ?**\n",
        "\n",
        "Choose 1 answer:\n",
        "\n",
        "$p^2+10p+16=0$\n",
        "\n",
        "$p^2-10p+86=0$\n",
        "\n",
        "$p^2-10p+16=0$\n",
        "\n",
        "$p^2+10p+86=0$\n",
        "\n",
        "We are asked to rewrite the equation in terms of $p$, where ${p}={4x-7}$. In order to do this, we need to find all of the places where the expression ${4x-7}$ shows up in the equation, and then substitute $p$ wherever we see them!\n",
        "\n",
        "For instance, note that $40x-70=10({4x-7})$. This means that we can rewrite the equation as:\n",
        "\n",
        "$(4x-7)^2+16=40x-70$\n",
        "\n",
        "$({4x-7})^2+16=10({4x-7})$\n",
        "\n",
        "Now we can substitute ${p}={4x-7}$ :\n",
        "\n",
        "$({p})^2+16=10({p})$\n",
        "\n",
        "Finally, let's manipulate this expression so that it shares the same form as the answer choices:\n",
        "\n",
        "${p}^2-10{p}+16=0$\n",
        "\n",
        "**In conclusion, $p^2-10p+16=0$ is equivalent to the given equation when $p=4x-7p=4x−7$.**"
      ]
    },
    {
      "metadata": {
        "id": "92C5eA9FgQGV",
        "colab_type": "code",
        "outputId": "7002f060-56d9-4db7-c393-59d6d6290ef9",
        "colab": {
          "base_uri": "https://localhost:8080/",
          "height": 35
        }
      },
      "cell_type": "code",
      "source": [
        "from sympy import *\n",
        "\n",
        "x = Symbol('x')\n",
        "\n",
        "solveset(Eq((3*x-1)**2 + 12*x - 4,0))"
      ],
      "execution_count": 1,
      "outputs": [
        {
          "output_type": "execute_result",
          "data": {
            "text/plain": [
              "{-1, 1/3}"
            ]
          },
          "metadata": {
            "tags": []
          },
          "execution_count": 1
        }
      ]
    },
    {
      "metadata": {
        "id": "gRNMnwVeg4uZ",
        "colab_type": "code",
        "colab": {}
      },
      "cell_type": "code",
      "source": [
        ""
      ],
      "execution_count": 0,
      "outputs": []
    }
  ]
}