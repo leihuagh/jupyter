{
  "nbformat": 4,
  "nbformat_minor": 0,
  "metadata": {
    "colab": {
      "name": "factoring-quadratics.ipynb",
      "version": "0.3.2",
      "provenance": [],
      "collapsed_sections": [],
      "include_colab_link": true
    },
    "kernelspec": {
      "name": "python3",
      "display_name": "Python 3"
    }
  },
  "cells": [
    {
      "cell_type": "markdown",
      "metadata": {
        "id": "view-in-github",
        "colab_type": "text"
      },
      "source": [
        "<a href=\"https://colab.research.google.com/github/porkostomus/jupyter/blob/master/factoring_quadratics.ipynb\" target=\"_parent\"><img src=\"https://colab.research.google.com/assets/colab-badge.svg\" alt=\"Open In Colab\"/></a>"
      ]
    },
    {
      "metadata": {
        "id": "SXTkHND7WTln",
        "colab_type": "text"
      },
      "cell_type": "markdown",
      "source": [
        "## Completing the square\n",
        "\n",
        "What is the missing constant term in the perfect square that starts with $x^2+14x$ ?\n",
        "\n",
        "Let $b$ be the missing constant term.\n",
        "\n",
        "Let's assume $x^2+14x+b$ is factored as the perfect square $(x+a)^2$.\n",
        "\n",
        "\\begin{aligned} (x+a)^2&=x^2+{2a}x+{a^2} \\\\\\\\ &=x^2+{14}x+ b \\end{aligned}\n",
        "\n",
        "For the expressions to be the same, $2a$ must be equal to $14$, and ${a^2}$ must be equal to $b$.\n",
        "\n",
        "From ${2a=14}$ we know that $a=7$.\n",
        "\n",
        "Now, from ${a^2=b}$ we know that $b=7^2=49$.\n",
        "\n",
        "Indeed, $x^2+14x+49$ is factored as $(x+7)^2$.\n",
        "\n",
        "In conclusion, the missing constant term in the perfect square that starts with $x^2+14x$ is\n",
        "$49$."
      ]
    },
    {
      "metadata": {
        "id": "C2P8XfdNbL0l",
        "colab_type": "text"
      },
      "cell_type": "markdown",
      "source": [
        "$x^2-4x$\n",
        "\n",
        "$x^2-4x+b$\n",
        "\n",
        "\n",
        "For the expressions to be the same, ${2a}$ must be equal to ${-4}$, and ${a^2}$ must be equal to $b$.\n",
        "\n",
        "From ${2a=-4}$ we know that $a=-2$.\n",
        "\n",
        "Now, from ${a^2=b}$ we know that $b=(-2)^2=4$.\n"
      ]
    },
    {
      "metadata": {
        "id": "sxl6GjHOBNzE",
        "colab_type": "text"
      },
      "cell_type": "markdown",
      "source": [
        "$x^2-16x$\n",
        "\n",
        "\\begin{aligned} (x+a)^2&=x^2+{2a}x+{a^2} \\\\\\\\ &=x^2-{16}x+ b \\end{aligned}"
      ]
    },
    {
      "metadata": {
        "id": "eq9iB6jGC0HN",
        "colab_type": "code",
        "colab": {
          "base_uri": "https://localhost:8080/",
          "height": 35
        },
        "outputId": "27161f4d-54ed-4feb-d7f2-ff52bd86968b"
      },
      "cell_type": "code",
      "source": [
        "-16/2"
      ],
      "execution_count": 1,
      "outputs": [
        {
          "output_type": "execute_result",
          "data": {
            "text/plain": [
              "-8.0"
            ]
          },
          "metadata": {
            "tags": []
          },
          "execution_count": 1
        }
      ]
    },
    {
      "metadata": {
        "id": "HlCDl-yBDDGG",
        "colab_type": "code",
        "colab": {
          "base_uri": "https://localhost:8080/",
          "height": 35
        },
        "outputId": "37f1c61d-9d02-4d22-b83d-c86386d6e6ba"
      },
      "cell_type": "code",
      "source": [
        "-8*-8"
      ],
      "execution_count": 2,
      "outputs": [
        {
          "output_type": "execute_result",
          "data": {
            "text/plain": [
              "64"
            ]
          },
          "metadata": {
            "tags": []
          },
          "execution_count": 2
        }
      ]
    },
    {
      "metadata": {
        "id": "QnJrX7oiDWYL",
        "colab_type": "code",
        "colab": {
          "base_uri": "https://localhost:8080/",
          "height": 35
        },
        "outputId": "c3769ee2-9428-4685-d67f-b3f6c4ac61ba"
      },
      "cell_type": "code",
      "source": [
        "-12/2"
      ],
      "execution_count": 10,
      "outputs": [
        {
          "output_type": "execute_result",
          "data": {
            "text/plain": [
              "-6.0"
            ]
          },
          "metadata": {
            "tags": []
          },
          "execution_count": 10
        }
      ]
    },
    {
      "metadata": {
        "id": "7mY81aqzDjOi",
        "colab_type": "code",
        "colab": {
          "base_uri": "https://localhost:8080/",
          "height": 35
        },
        "outputId": "08663173-2076-4315-a3ad-7d7c7e7dc7e1"
      },
      "cell_type": "code",
      "source": [
        "-6*-6"
      ],
      "execution_count": 11,
      "outputs": [
        {
          "output_type": "execute_result",
          "data": {
            "text/plain": [
              "36"
            ]
          },
          "metadata": {
            "tags": []
          },
          "execution_count": 11
        }
      ]
    },
    {
      "metadata": {
        "id": "gVV7OZ1UoCPf",
        "colab_type": "text"
      },
      "cell_type": "markdown",
      "source": [
        "## Solve equations using structure\n",
        "\n",
        "Let $p=4x-7$.\n",
        "\n",
        "**Which equation is equivalent to $(4x-7)^2+16=40x-70$ in terms of $p$ ?**\n",
        "\n",
        "Choose 1 answer:\n",
        "\n",
        "$p^2+10p+16=0$\n",
        "\n",
        "$p^2-10p+86=0$\n",
        "\n",
        "$p^2-10p+16=0$\n",
        "\n",
        "$p^2+10p+86=0$\n",
        "\n",
        "We are asked to rewrite the equation in terms of $p$, where ${p}={4x-7}$. In order to do this, we need to find all of the places where the expression ${4x-7}$ shows up in the equation, and then substitute $p$ wherever we see them!\n",
        "\n",
        "For instance, note that $40x-70=10({4x-7})$. This means that we can rewrite the equation as:\n",
        "\n",
        "$(4x-7)^2+16=40x-70$\n",
        "\n",
        "$({4x-7})^2+16=10({4x-7})$\n",
        "\n",
        "Now we can substitute ${p}={4x-7}$ :\n",
        "\n",
        "$({p})^2+16=10({p})$\n",
        "\n",
        "Finally, let's manipulate this expression so that it shares the same form as the answer choices:\n",
        "\n",
        "${p}^2-10{p}+16=0$\n",
        "\n",
        "**In conclusion, $p^2-10p+16=0$ is equivalent to the given equation when $p=4x-7p=4x−7$.**"
      ]
    },
    {
      "metadata": {
        "id": "92C5eA9FgQGV",
        "colab_type": "code",
        "outputId": "7002f060-56d9-4db7-c393-59d6d6290ef9",
        "colab": {
          "base_uri": "https://localhost:8080/",
          "height": 35
        }
      },
      "cell_type": "code",
      "source": [
        "from sympy import *\n",
        "\n",
        "x = Symbol('x')\n",
        "\n",
        "solveset(Eq((3*x-1)**2 + 12*x - 4,0))"
      ],
      "execution_count": 0,
      "outputs": [
        {
          "output_type": "execute_result",
          "data": {
            "text/plain": [
              "{-1, 1/3}"
            ]
          },
          "metadata": {
            "tags": []
          },
          "execution_count": 1
        }
      ]
    }
  ]
}