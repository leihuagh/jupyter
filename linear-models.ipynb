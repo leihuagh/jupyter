{
 "cells": [
  {
   "cell_type": "markdown",
   "metadata": {},
   "source": [
    "# Linear models\n",
    "\n",
    "## Naoya's book\n",
    "\n",
    "Naoya read a book cover to cover in a single session, at a rate of $55$ pages per hour. After reading for $4$ hours, he had $330$ pages left to read.\n",
    "\n",
    "**How many pages is the book?**\n",
    "\n",
    "**How many hours did it take Naoya to read the entire book?**"
   ]
  },
  {
   "cell_type": "markdown",
   "metadata": {},
   "source": [
    "Naoya read $55$ pages per hour, so he read $55T$ pages in $T$ hours.\n",
    "\n",
    "The total number of pages is comprised of the number of pages Naoya had already read and the number of pages that remained. We can express this with the equation $B=55T+R$, where:\n",
    "\n",
    "* $B$ represents the book's length\n",
    "* $T$ represents the time (in hours)\n",
    "* $R$ represents the number of remaining pages to read at a given time"
   ]
  },
  {
   "cell_type": "code",
   "execution_count": 2,
   "metadata": {
    "collapsed": false
   },
   "outputs": [
    {
     "data": {
      "text/plain": [
       "Eq(B, 550)"
      ]
     },
     "execution_count": 2,
     "metadata": {},
     "output_type": "execute_result"
    }
   ],
   "source": [
    "from sympy import *\n",
    "B, T, R = symbols('B T R')\n",
    "eq = Eq(B, 55 * T + R)\n",
    "\n",
    "eq.subs([(T, 4), (R, 330)])"
   ]
  },
  {
   "cell_type": "markdown",
   "metadata": {},
   "source": [
    "We know that after reading for $4$ hours $(T={4})$, Naoya had $330$ remaining pages to read $(R={330})$. Let's plug these values into the equation to find the value of $B$.\n",
    "\n",
    "$\\qquad B=55\\cdot{4}+{330}=550$\n",
    "\n",
    "Therefore, the book is $550$ pages long."
   ]
  },
  {
   "cell_type": "code",
   "execution_count": 15,
   "metadata": {
    "collapsed": false
   },
   "outputs": [
    {
     "data": {
      "text/plain": [
       "{10}"
      ]
     },
     "execution_count": 15,
     "metadata": {},
     "output_type": "execute_result"
    }
   ],
   "source": [
    "solveset(eq.subs([(B, 550), (R, 0)]))"
   ]
  },
  {
   "cell_type": "markdown",
   "metadata": {},
   "source": [
    "To find how long it took Naoya to finish the entire book, we can plug $R=0$ into the equation and solve for $T$.\n",
    "\n",
    "$\\qquad\\begin{aligned}550&=55T+0\\\\ 55T&=550\\\\ T&=10\\end{aligned}$\n",
    "\n",
    "The book is $550$ pages long.\n",
    "It took Naoya $10$ hours to read the entire book."
   ]
  },
  {
   "cell_type": "markdown",
   "metadata": {},
   "source": [
    "## Charging the battery\n",
    "\n",
    "A battery was charged. When the charging began, it was $23$ percent full. After $30$ minutes of charging, the battery was $89$ percent full.\n",
    "\n",
    "**What percent was the battery charged per minute?**\n",
    "\n",
    "**How many minutes did it take the battery to be fully charged?**"
   ]
  },
  {
   "cell_type": "markdown",
   "metadata": {},
   "source": [
    "Let's say that the percentage of the battery's capacity that is charged increases by $V$ percent each minute. Then, it increases by $V\\cdot T$ percent in $T$ minutes. In addition, we know that when the charging began, the battery was $23$ percent full.\n",
    "\n",
    "The percentage of the battery's capacity that was charged at any given time is found by taking the percentage the battery was already charged when the charging began and adding to it the percentage that was additionally charged since then. We can express this with the equation $C=23+V\\cdot T$, where:\n",
    "\n",
    "* $C$ represents the percentage of the battery's capacity that is charged at a given time\n",
    "* $V$ represents the charging rate (in percent per minute)\n",
    "* $T$ represents the time (in minutes)"
   ]
  },
  {
   "cell_type": "code",
   "execution_count": 18,
   "metadata": {
    "collapsed": false
   },
   "outputs": [],
   "source": [
    "C, V, T = symbols('C V T')\n",
    "eq = Eq(C, 23 + V * T)"
   ]
  },
  {
   "cell_type": "markdown",
   "metadata": {},
   "source": [
    "We know that after $30$ minutes $(T={30})$, the battery was $89$ percent full $(C={89})$. Let's plug these values into the equation to find the value of $V$."
   ]
  },
  {
   "cell_type": "code",
   "execution_count": 21,
   "metadata": {
    "collapsed": false
   },
   "outputs": [
    {
     "data": {
      "text/plain": [
       "{2.2}"
      ]
     },
     "execution_count": 21,
     "metadata": {},
     "output_type": "execute_result"
    }
   ],
   "source": [
    "solveset(eq.subs([(C, 89), (T, 30.0)]))"
   ]
  },
  {
   "cell_type": "markdown",
   "metadata": {},
   "source": [
    "$\\qquad \\begin{aligned}{89}&=23+V\\cdot{30}\\\\ 30V&=66\\\\ V&=2.2\\end{aligned}$\n",
    "\n",
    "Therefore, the battery was charged at a rate of $2.2$ percent per minute.\n",
    "\n",
    "To find how long it took the battery to be fully charged, we can plug $C=100$ into the equation and solve for $T$."
   ]
  },
  {
   "cell_type": "code",
   "execution_count": 25,
   "metadata": {
    "collapsed": false
   },
   "outputs": [
    {
     "data": {
      "text/plain": [
       "{35.0}"
      ]
     },
     "execution_count": 25,
     "metadata": {},
     "output_type": "execute_result"
    }
   ],
   "source": [
    "solveset(eq.subs([(C, 100), (V, 2.2)]))"
   ]
  },
  {
   "cell_type": "markdown",
   "metadata": {},
   "source": [
    "$\\qquad\\begin{aligned}100&=23+2.2T\\\\ 2.2T&=77\\\\ T&=35\\end{aligned}$\n",
    "\n",
    "* **The battery was charged at a rate of $2.2$ percent per minute.**\n",
    "\n",
    "* **It took the battery $35$ minutes to be fully charged.**"
   ]
  },
  {
   "cell_type": "markdown",
   "metadata": {},
   "source": [
    "## Vlad and his mighty oak\n",
    "\n",
    "When Vlad moved to his new home a few years ago, there was a young oak tree in his backyard. He measured it once a year and found that it grew by $26$ centimeters each year. $4.5$ years after he moved into the house, the tree was $292$ centimeters tall.\n",
    "\n",
    "**How many centimeters tall was the tree when Vlad moved into the house?**\n",
    " \n",
    "**How many years passed from the time Vlad moved in until the tree was $357$ centimeters tall?**"
   ]
  },
  {
   "cell_type": "markdown",
   "metadata": {},
   "source": [
    "The tree grew by $26$ centimeters each year, so it grew by $26T$ centimeters in $T$ years.\n",
    "\n",
    "The tree's height at a given time is found by taking its height when Vlad moved to his new home and adding to it the length it grew since then. We can express this with the equation $H=A+26T$, where:\n",
    "\n",
    "* $H$ represents the tree's height at a given time (in centimeters)\n",
    "* $A$ represents the tree's original height (in centimeters)\n",
    "* $T$ represents the time (in years)"
   ]
  },
  {
   "cell_type": "code",
   "execution_count": 27,
   "metadata": {
    "collapsed": false
   },
   "outputs": [],
   "source": [
    "H, A, T = symbols('H A T')\n",
    "eq = Eq(H, A + 26 * T)"
   ]
  },
  {
   "cell_type": "markdown",
   "metadata": {},
   "source": [
    "We want to find $A$, so let's first solve the equation for $A$:"
   ]
  },
  {
   "cell_type": "code",
   "execution_count": 28,
   "metadata": {
    "collapsed": false
   },
   "outputs": [
    {
     "data": {
      "text/plain": [
       "{H - 26*T}"
      ]
     },
     "execution_count": 28,
     "metadata": {},
     "output_type": "execute_result"
    }
   ],
   "source": [
    "solveset(eq, A)"
   ]
  },
  {
   "cell_type": "markdown",
   "metadata": {},
   "source": [
    "$\\qquad\\begin{aligned}H&=A+26T\\\\ A&=H-26T\\end{aligned}$\n",
    "\n",
    "Now, we know that after $4.5$ years $(T={4.5})$, the tree was $292$ centimeters tall $(H={292})$. Let's plug these values into the equation to find the value of $A$."
   ]
  },
  {
   "cell_type": "code",
   "execution_count": 29,
   "metadata": {
    "collapsed": false
   },
   "outputs": [
    {
     "data": {
      "text/plain": [
       "{175.0}"
      ]
     },
     "execution_count": 29,
     "metadata": {},
     "output_type": "execute_result"
    }
   ],
   "source": [
    "solveset(eq, A).subs([(H, 292), (T, 4.5)])"
   ]
  },
  {
   "cell_type": "markdown",
   "metadata": {},
   "source": [
    "$\\qquad A={292}-26\\cdot{4.5}=175$\n",
    "\n",
    "Therefore, when Vlad moved into the house, the tree was $175$ centimeters tall.\n",
    "\n",
    "To find how long it took the tree to reach a height of $357$ centimeters, we can plug $H=357$ into the equation and solve for $T$."
   ]
  },
  {
   "cell_type": "code",
   "execution_count": 32,
   "metadata": {
    "collapsed": false
   },
   "outputs": [
    {
     "data": {
      "text/plain": [
       "{7}"
      ]
     },
     "execution_count": 32,
     "metadata": {},
     "output_type": "execute_result"
    }
   ],
   "source": [
    "solveset(eq.subs([(H, 357), (A, 175)]), T)"
   ]
  },
  {
   "cell_type": "markdown",
   "metadata": {},
   "source": [
    "$\\qquad\\begin{aligned}175&=357-26T\\\\ 26T&=182\\\\ T&=7\\end{aligned}$\n",
    "\n",
    "* **When Vlad moved into the house, the tree was $175$ centimeters tall**\n",
    "\n",
    "* **The tree reached a height of $357$ centimeters $7$ years after Vlad moved in.**"
   ]
  },
  {
   "cell_type": "markdown",
   "metadata": {},
   "source": [
    "## Sean's slushie\n",
    "\n",
    "Sean tried to drink a slushy as fast as he could. He drank the slushy at a constant rate. There were originally $275$ milliliters of slushy in the cup. After $13$ seconds, $210$ milliliters of slushy remained.\n",
    "\n",
    "**How many milliliters per second did Sean drink?**\n",
    "\n",
    "**How many seconds did it take Sean to drink all the slushy?**"
   ]
  },
  {
   "cell_type": "code",
   "execution_count": 4,
   "metadata": {
    "collapsed": false
   },
   "outputs": [
    {
     "data": {
      "text/plain": [
       "-5.0"
      ]
     },
     "execution_count": 4,
     "metadata": {},
     "output_type": "execute_result"
    }
   ],
   "source": [
    "y2, y1, x2, x1 = symbols('y2 y1 x2 x1')\n",
    "x1 = 0\n",
    "y1 = 275\n",
    "x2 = 13\n",
    "y2 = 210\n",
    "m = (y2 - y1)/(x2 - x1)\n",
    "m"
   ]
  },
  {
   "cell_type": "code",
   "execution_count": 5,
   "metadata": {},
   "outputs": [
    {
     "data": {
      "text/plain": [
       "55.0"
      ]
     },
     "execution_count": 5,
     "metadata": {},
     "output_type": "execute_result"
    }
   ],
   "source": [
    "275/5"
   ]
  },
  {
   "cell_type": "markdown",
   "metadata": {},
   "source": [
    "## Agent Hunt's files\n",
    "\n",
    "Agent Hunt transferred classified files from the CIA mainframe onto his flash drive. The drive had some files on it before the transfer, and the transfer happened at a rate of $4.4$ megabytes per second. After $32$ seconds, there were $384$ megabytes on the drive. The drive had a maximum capacity of $1000$ megabytes.\n",
    "\n",
    "**How many megabytes full was the drive when the transfer began?**"
   ]
  },
  {
   "cell_type": "markdown",
   "metadata": {},
   "source": [
    "The files were transferred at a rate of $4.4$ megabytes per second, so $4.4T$ megabytes were transferred in $T$ seconds.\n",
    "\n",
    "The size of the files on the drive is comprised of the files that were on the drive before the transfer began and the files that were transferred. We can express this with the equation $S=A+4.4T$, where:\n",
    "\n",
    "* $S$ represents the size of the files on the drive at a given time (in megabytes)\n",
    "\n",
    "* $A$ represents the size of the files that were on the drive before the transfer began (in megabytes)\n",
    "\n",
    "* $T$ represents the time (in seconds)"
   ]
  },
  {
   "cell_type": "code",
   "execution_count": 7,
   "metadata": {},
   "outputs": [],
   "source": [
    "S, A, T = symbols('S A T')\n",
    "eq = Eq(S, A + 4.4 * T)"
   ]
  },
  {
   "cell_type": "markdown",
   "metadata": {},
   "source": [
    "We want to find $A$, so let's first solve the equation for $A$:"
   ]
  },
  {
   "cell_type": "code",
   "execution_count": 8,
   "metadata": {},
   "outputs": [
    {
     "data": {
      "text/plain": [
       "{S - 4.4*T}"
      ]
     },
     "execution_count": 8,
     "metadata": {},
     "output_type": "execute_result"
    }
   ],
   "source": [
    "solveset(eq, A)"
   ]
  },
  {
   "cell_type": "markdown",
   "metadata": {},
   "source": [
    "$\\qquad\\begin{aligned}S&=A+4.4T\\\\ A&=S-4.4T\\end{aligned}$\n",
    "\n",
    "Now, we know that after $32$ seconds $(T={32})$, there were $384$ megabytes on the drive $(S={384})$. Let's plug these values into the equation to find the value of $A$."
   ]
  },
  {
   "cell_type": "code",
   "execution_count": 10,
   "metadata": {},
   "outputs": [
    {
     "data": {
      "text/plain": [
       "Eq(A, 243.2)"
      ]
     },
     "execution_count": 10,
     "metadata": {},
     "output_type": "execute_result"
    }
   ],
   "source": [
    "eq = Eq(A, S - 4.4 * T)\n",
    "eq.subs([(T, 32), (S, 384)])"
   ]
  },
  {
   "cell_type": "markdown",
   "metadata": {},
   "source": [
    "$\\qquad A={384}-4.4\\cdot{32}=243.2$\n",
    "\n",
    "Therefore, when the transfer began, the drive had $243.2$ megabytes on it."
   ]
  },
  {
   "cell_type": "markdown",
   "metadata": {},
   "source": [
    "**How many seconds from the time that Agent Hunt started the transfer did it take the drive to be completely full?**"
   ]
  },
  {
   "cell_type": "markdown",
   "metadata": {},
   "source": [
    "Plug $S=1000$ into the equation and solve for $T$:"
   ]
  },
  {
   "cell_type": "code",
   "execution_count": 14,
   "metadata": {},
   "outputs": [
    {
     "data": {
      "text/plain": [
       "{172.0}"
      ]
     },
     "execution_count": 14,
     "metadata": {},
     "output_type": "execute_result"
    }
   ],
   "source": [
    "solveset(eq.subs([(A, 243.2), (S, 1000)]))"
   ]
  },
  {
   "cell_type": "markdown",
   "metadata": {},
   "source": [
    "$\\qquad\\begin{aligned}243.2&=1000-4.4T\\\\ 4.4T&=756.8\\\\ T&=172\\end{aligned}$"
   ]
  },
  {
   "cell_type": "markdown",
   "metadata": {},
   "source": [
    "**It took the drive $172$ seconds to be completely full.**"
   ]
  }
 ],
 "metadata": {
  "kernelspec": {
   "display_name": "Python 3",
   "language": "python",
   "name": "python3"
  },
  "language_info": {
   "codemirror_mode": {
    "name": "ipython",
    "version": 3
   },
   "file_extension": ".py",
   "mimetype": "text/x-python",
   "name": "python",
   "nbconvert_exporter": "python",
   "pygments_lexer": "ipython3",
   "version": "3.7.1"
  }
 },
 "nbformat": 4,
 "nbformat_minor": 2
}
