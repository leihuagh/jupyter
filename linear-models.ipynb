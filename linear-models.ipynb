{
 "cells": [
  {
   "cell_type": "markdown",
   "metadata": {
    "collapsed": false
   },
   "source": [
    "# Linear models\n",
    "\n",
    "## Naoya's book\n",
    "\n",
    "Naoya read a book cover to cover in a single session, at a rate of $55$ pages per hour. After reading for $4$ hours, he had $330$ pages left to read.\n",
    "\n",
    "**How many pages is the book?**\n",
    "\n",
    "**How many hours did it take Naoya to read the entire book?**"
   ]
  },
  {
   "cell_type": "markdown",
   "metadata": {
    "collapsed": false
   },
   "source": [
    "Naoya read $55$ pages per hour, so he read $55T$ pages in $T$ hours.\n",
    "\n",
    "The total number of pages is comprised of the number of pages Naoya had already read and the number of pages that remained. We can express this with the equation $B=55T+R$, where:\n",
    "\n",
    "* $B$ represents the book's length\n",
    "* $T$ represents the time (in hours)\n",
    "* $R$ represents the number of remaining pages to read at a given time"
   ]
  },
  {
   "cell_type": "code",
   "execution_count": 17,
   "metadata": {
    "collapsed": false
   },
   "outputs": [
    {
     "data": {
      "text/plain": [
       "Eq(B, 550)"
      ]
     },
     "execution_count": 17,
     "metadata": {
     },
     "output_type": "execute_result"
    }
   ],
   "source": [
    "from sympy import *\n",
    "B, T, R = symbols('B T R')\n",
    "eq = Eq(B, 55 * T + R)\n",
    "\n",
    "eq.subs([(T, 4), (R, 330)])"
   ]
  },
  {
   "cell_type": "markdown",
   "metadata": {
    "collapsed": false
   },
   "source": [
    "We know that after reading for $4$ hours $(T={4})$, Naoya had $330$ remaining pages to read $(R={330})$. Let's plug these values into the equation to find the value of $B$.\n",
    "\n",
    "$\\qquad B=55\\cdot{4}+{330}=550$\n",
    "\n",
    "Therefore, the book is $550$ pages long."
   ]
  },
  {
   "cell_type": "code",
   "execution_count": 15,
   "metadata": {
    "collapsed": false
   },
   "outputs": [
    {
     "data": {
      "text/plain": [
       "{10}"
      ]
     },
     "execution_count": 15,
     "metadata": {
     },
     "output_type": "execute_result"
    }
   ],
   "source": [
    "solveset(eq.subs([(B, 550), (R, 0)]))"
   ]
  },
  {
   "cell_type": "markdown",
   "metadata": {
    "collapsed": false
   },
   "source": [
    "To find how long it took Naoya to finish the entire book, we can plug $R=0$ into the equation and solve for $T$.\n",
    "\n",
    "$\\qquad\\begin{aligned}550&=55T+0\\\\ 55T&=550\\\\ T&=10\\end{aligned}$\n",
    "\n",
    "The book is $550$ pages long.\n",
    "It took Naoya $10$ hours to read the entire book."
   ]
  },
  {
   "cell_type": "code",
   "execution_count": 0,
   "metadata": {
    "collapsed": false
   },
   "outputs": [
   ],
   "source": [
   ]
  }
 ],
 "metadata": {
  "kernelspec": {
   "display_name": "Python 3 (Ubuntu Linux)",
   "language": "python",
   "name": "python3"
  },
  "language_info": {
   "codemirror_mode": {
    "name": "ipython",
    "version": 3
   },
   "file_extension": ".py",
   "mimetype": "text/x-python",
   "name": "python",
   "nbconvert_exporter": "python",
   "pygments_lexer": "ipython3",
   "version": "3.6.7"
  }
 },
 "nbformat": 4,
 "nbformat_minor": 0
}