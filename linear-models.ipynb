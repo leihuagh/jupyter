{
 "cells": [
  {
   "cell_type": "markdown",
   "metadata": {},
   "source": [
    "# Linear models\n",
    "\n",
    "## Naoya's book\n",
    "\n",
    "Naoya read a book cover to cover in a single session, at a rate of $55$ pages per hour. After reading for $4$ hours, he had $330$ pages left to read.\n",
    "\n",
    "**How many pages is the book?**\n",
    "\n",
    "**How many hours did it take Naoya to read the entire book?**"
   ]
  },
  {
   "cell_type": "markdown",
   "metadata": {},
   "source": [
    "Naoya read $55$ pages per hour, so he read $55T$ pages in $T$ hours.\n",
    "\n",
    "The total number of pages is comprised of the number of pages Naoya had already read and the number of pages that remained. We can express this with the equation $B=55T+R$, where:\n",
    "\n",
    "* $B$ represents the book's length\n",
    "* $T$ represents the time (in hours)\n",
    "* $R$ represents the number of remaining pages to read at a given time"
   ]
  },
  {
   "cell_type": "code",
   "execution_count": 2,
   "metadata": {
    "collapsed": false
   },
   "outputs": [
    {
     "data": {
      "text/plain": [
       "Eq(B, 550)"
      ]
     },
     "execution_count": 2,
     "metadata": {},
     "output_type": "execute_result"
    }
   ],
   "source": [
    "from sympy import *\n",
    "B, T, R = symbols('B T R')\n",
    "eq = Eq(B, 55 * T + R)\n",
    "\n",
    "eq.subs([(T, 4), (R, 330)])"
   ]
  },
  {
   "cell_type": "markdown",
   "metadata": {},
   "source": [
    "We know that after reading for $4$ hours $(T={4})$, Naoya had $330$ remaining pages to read $(R={330})$. Let's plug these values into the equation to find the value of $B$.\n",
    "\n",
    "$\\qquad B=55\\cdot{4}+{330}=550$\n",
    "\n",
    "Therefore, the book is $550$ pages long."
   ]
  },
  {
   "cell_type": "code",
   "execution_count": 15,
   "metadata": {
    "collapsed": false
   },
   "outputs": [
    {
     "data": {
      "text/plain": [
       "{10}"
      ]
     },
     "execution_count": 15,
     "metadata": {},
     "output_type": "execute_result"
    }
   ],
   "source": [
    "solveset(eq.subs([(B, 550), (R, 0)]))"
   ]
  },
  {
   "cell_type": "markdown",
   "metadata": {},
   "source": [
    "To find how long it took Naoya to finish the entire book, we can plug $R=0$ into the equation and solve for $T$.\n",
    "\n",
    "$\\qquad\\begin{aligned}550&=55T+0\\\\ 55T&=550\\\\ T&=10\\end{aligned}$\n",
    "\n",
    "The book is $550$ pages long.\n",
    "It took Naoya $10$ hours to read the entire book."
   ]
  },
  {
   "cell_type": "markdown",
   "metadata": {},
   "source": [
    "## Charging the battery\n",
    "\n",
    "A battery was charged. When the charging began, it was $23$ percent full. After $30$ minutes of charging, the battery was $89$ percent full.\n",
    "\n",
    "**What percent was the battery charged per minute?**\n",
    "\n",
    "**How many minutes did it take the battery to be fully charged?**"
   ]
  },
  {
   "cell_type": "markdown",
   "metadata": {},
   "source": [
    "Let's say that the percentage of the battery's capacity that is charged increases by $V$ percent each minute. Then, it increases by $V\\cdot T$ percent in $T$ minutes. In addition, we know that when the charging began, the battery was $23$ percent full.\n",
    "\n",
    "The percentage of the battery's capacity that was charged at any given time is found by taking the percentage the battery was already charged when the charging began and adding to it the percentage that was additionally charged since then. We can express this with the equation $C=23+V\\cdot T$, where:\n",
    "\n",
    "* $C$ represents the percentage of the battery's capacity that is charged at a given time\n",
    "* $V$ represents the charging rate (in percent per minute)\n",
    "* $T$ represents the time (in minutes)"
   ]
  },
  {
   "cell_type": "code",
   "execution_count": 18,
   "metadata": {
    "collapsed": false
   },
   "outputs": [],
   "source": [
    "C, V, T = symbols('C V T')\n",
    "eq = Eq(C, 23 + V * T)"
   ]
  },
  {
   "cell_type": "markdown",
   "metadata": {},
   "source": [
    "We know that after $30$ minutes $(T={30})$, the battery was $89$ percent full $(C={89})$. Let's plug these values into the equation to find the value of $V$."
   ]
  },
  {
   "cell_type": "code",
   "execution_count": 21,
   "metadata": {
    "collapsed": false
   },
   "outputs": [
    {
     "data": {
      "text/plain": [
       "{2.2}"
      ]
     },
     "execution_count": 21,
     "metadata": {},
     "output_type": "execute_result"
    }
   ],
   "source": [
    "solveset(eq.subs([(C, 89), (T, 30.0)]))"
   ]
  },
  {
   "cell_type": "markdown",
   "metadata": {},
   "source": [
    "$\\qquad \\begin{aligned}{89}&=23+V\\cdot{30}\\\\ 30V&=66\\\\ V&=2.2\\end{aligned}$\n",
    "\n",
    "Therefore, the battery was charged at a rate of $2.2$ percent per minute.\n",
    "\n",
    "To find how long it took the battery to be fully charged, we can plug $C=100$ into the equation and solve for $T$."
   ]
  },
  {
   "cell_type": "code",
   "execution_count": 25,
   "metadata": {
    "collapsed": false
   },
   "outputs": [
    {
     "data": {
      "text/plain": [
       "{35.0}"
      ]
     },
     "execution_count": 25,
     "metadata": {},
     "output_type": "execute_result"
    }
   ],
   "source": [
    "solveset(eq.subs([(C, 100), (V, 2.2)]))"
   ]
  },
  {
   "cell_type": "markdown",
   "metadata": {},
   "source": [
    "$\\qquad\\begin{aligned}100&=23+2.2T\\\\ 2.2T&=77\\\\ T&=35\\end{aligned}$\n",
    "\n",
    "* **The battery was charged at a rate of $2.2$ percent per minute.**\n",
    "\n",
    "* **It took the battery $35$ minutes to be fully charged.**"
   ]
  },
  {
   "cell_type": "markdown",
   "metadata": {},
   "source": [
    "## Vlad and his mighty oak\n",
    "\n",
    "When Vlad moved to his new home a few years ago, there was a young oak tree in his backyard. He measured it once a year and found that it grew by $26$ centimeters each year. $4.5$ years after he moved into the house, the tree was $292$ centimeters tall.\n",
    "\n",
    "**How many centimeters tall was the tree when Vlad moved into the house?**\n",
    " \n",
    "**How many years passed from the time Vlad moved in until the tree was $357$ centimeters tall?**"
   ]
  },
  {
   "cell_type": "markdown",
   "metadata": {},
   "source": [
    "The tree grew by $26$ centimeters each year, so it grew by $26T$ centimeters in $T$ years.\n",
    "\n",
    "The tree's height at a given time is found by taking its height when Vlad moved to his new home and adding to it the length it grew since then. We can express this with the equation $H=A+26T$, where:\n",
    "\n",
    "* $H$ represents the tree's height at a given time (in centimeters)\n",
    "* $A$ represents the tree's original height (in centimeters)\n",
    "* $T$ represents the time (in years)"
   ]
  },
  {
   "cell_type": "code",
   "execution_count": 27,
   "metadata": {
    "collapsed": false
   },
   "outputs": [],
   "source": [
    "H, A, T = symbols('H A T')\n",
    "eq = Eq(H, A + 26 * T)"
   ]
  },
  {
   "cell_type": "markdown",
   "metadata": {},
   "source": [
    "We want to find $A$, so let's first solve the equation for $A$:"
   ]
  },
  {
   "cell_type": "code",
   "execution_count": 28,
   "metadata": {
    "collapsed": false
   },
   "outputs": [
    {
     "data": {
      "text/plain": [
       "{H - 26*T}"
      ]
     },
     "execution_count": 28,
     "metadata": {},
     "output_type": "execute_result"
    }
   ],
   "source": [
    "solveset(eq, A)"
   ]
  },
  {
   "cell_type": "markdown",
   "metadata": {},
   "source": [
    "$\\qquad\\begin{aligned}H&=A+26T\\\\ A&=H-26T\\end{aligned}$\n",
    "\n",
    "Now, we know that after $4.5$ years $(T={4.5})$, the tree was $292$ centimeters tall $(H={292})$. Let's plug these values into the equation to find the value of $A$."
   ]
  },
  {
   "cell_type": "code",
   "execution_count": 29,
   "metadata": {
    "collapsed": false
   },
   "outputs": [
    {
     "data": {
      "text/plain": [
       "{175.0}"
      ]
     },
     "execution_count": 29,
     "metadata": {},
     "output_type": "execute_result"
    }
   ],
   "source": [
    "solveset(eq, A).subs([(H, 292), (T, 4.5)])"
   ]
  },
  {
   "cell_type": "markdown",
   "metadata": {},
   "source": [
    "$\\qquad A={292}-26\\cdot{4.5}=175$\n",
    "\n",
    "Therefore, when Vlad moved into the house, the tree was $175$ centimeters tall.\n",
    "\n",
    "To find how long it took the tree to reach a height of $357$ centimeters, we can plug $H=357$ into the equation and solve for $T$."
   ]
  },
  {
   "cell_type": "code",
   "execution_count": 32,
   "metadata": {
    "collapsed": false
   },
   "outputs": [
    {
     "data": {
      "text/plain": [
       "{7}"
      ]
     },
     "execution_count": 32,
     "metadata": {},
     "output_type": "execute_result"
    }
   ],
   "source": [
    "solveset(eq.subs([(H, 357), (A, 175)]), T)"
   ]
  },
  {
   "cell_type": "markdown",
   "metadata": {},
   "source": [
    "$\\qquad\\begin{aligned}175&=357-26T\\\\ 26T&=182\\\\ T&=7\\end{aligned}$\n",
    "\n",
    "* **When Vlad moved into the house, the tree was $175$ centimeters tall**\n",
    "\n",
    "* **The tree reached a height of $357$ centimeters $7$ years after Vlad moved in.**"
   ]
  },
  {
   "cell_type": "markdown",
   "metadata": {},
   "source": [
    "## Sean's slushie\n",
    "\n",
    "Sean tried to drink a slushy as fast as he could. He drank the slushy at a constant rate. There were originally $275$ milliliters of slushy in the cup. After $13$ seconds, $210$ milliliters of slushy remained.\n",
    "\n",
    "**How many milliliters per second did Sean drink?**\n",
    "\n",
    "**How many seconds did it take Sean to drink all the slushy?**"
   ]
  },
  {
   "cell_type": "code",
   "execution_count": 4,
   "metadata": {
    "collapsed": false
   },
   "outputs": [
    {
     "data": {
      "text/plain": [
       "-5.0"
      ]
     },
     "execution_count": 4,
     "metadata": {},
     "output_type": "execute_result"
    }
   ],
   "source": [
    "y2, y1, x2, x1 = symbols('y2 y1 x2 x1')\n",
    "x1 = 0\n",
    "y1 = 275\n",
    "x2 = 13\n",
    "y2 = 210\n",
    "m = (y2 - y1)/(x2 - x1)\n",
    "m"
   ]
  },
  {
   "cell_type": "code",
   "execution_count": 5,
   "metadata": {},
   "outputs": [
    {
     "data": {
      "text/plain": [
       "55.0"
      ]
     },
     "execution_count": 5,
     "metadata": {},
     "output_type": "execute_result"
    }
   ],
   "source": [
    "275/5"
   ]
  },
  {
   "cell_type": "markdown",
   "metadata": {},
   "source": [
    "## Agent Hunt's files\n",
    "\n",
    "Agent Hunt transferred classified files from the CIA mainframe onto his flash drive. The drive had some files on it before the transfer, and the transfer happened at a rate of $4.4$ megabytes per second. After $32$ seconds, there were $384$ megabytes on the drive. The drive had a maximum capacity of $1000$ megabytes.\n",
    "\n",
    "**How many megabytes full was the drive when the transfer began?**"
   ]
  },
  {
   "cell_type": "markdown",
   "metadata": {},
   "source": [
    "The files were transferred at a rate of $4.4$ megabytes per second, so $4.4T$ megabytes were transferred in $T$ seconds.\n",
    "\n",
    "The size of the files on the drive is comprised of the files that were on the drive before the transfer began and the files that were transferred. We can express this with the equation $S=A+4.4T$, where:\n",
    "\n",
    "* $S$ represents the size of the files on the drive at a given time (in megabytes)\n",
    "\n",
    "* $A$ represents the size of the files that were on the drive before the transfer began (in megabytes)\n",
    "\n",
    "* $T$ represents the time (in seconds)"
   ]
  },
  {
   "cell_type": "code",
   "execution_count": 7,
   "metadata": {},
   "outputs": [],
   "source": [
    "S, A, T = symbols('S A T')\n",
    "eq = Eq(S, A + 4.4 * T)"
   ]
  },
  {
   "cell_type": "markdown",
   "metadata": {},
   "source": [
    "We want to find $A$, so let's first solve the equation for $A$:"
   ]
  },
  {
   "cell_type": "code",
   "execution_count": 8,
   "metadata": {},
   "outputs": [
    {
     "data": {
      "text/plain": [
       "{S - 4.4*T}"
      ]
     },
     "execution_count": 8,
     "metadata": {},
     "output_type": "execute_result"
    }
   ],
   "source": [
    "solveset(eq, A)"
   ]
  },
  {
   "cell_type": "markdown",
   "metadata": {},
   "source": [
    "$\\qquad\\begin{aligned}S&=A+4.4T\\\\ A&=S-4.4T\\end{aligned}$\n",
    "\n",
    "Now, we know that after $32$ seconds $(T={32})$, there were $384$ megabytes on the drive $(S={384})$. Let's plug these values into the equation to find the value of $A$."
   ]
  },
  {
   "cell_type": "code",
   "execution_count": 10,
   "metadata": {},
   "outputs": [
    {
     "data": {
      "text/plain": [
       "Eq(A, 243.2)"
      ]
     },
     "execution_count": 10,
     "metadata": {},
     "output_type": "execute_result"
    }
   ],
   "source": [
    "eq = Eq(A, S - 4.4 * T)\n",
    "eq.subs([(T, 32), (S, 384)])"
   ]
  },
  {
   "cell_type": "markdown",
   "metadata": {},
   "source": [
    "$\\qquad A={384}-4.4\\cdot{32}=243.2$\n",
    "\n",
    "Therefore, when the transfer began, the drive had $243.2$ megabytes on it."
   ]
  },
  {
   "cell_type": "markdown",
   "metadata": {},
   "source": [
    "**How many seconds from the time that Agent Hunt started the transfer did it take the drive to be completely full?**"
   ]
  },
  {
   "cell_type": "markdown",
   "metadata": {},
   "source": [
    "Plug $S=1000$ into the equation and solve for $T$:"
   ]
  },
  {
   "cell_type": "code",
   "execution_count": 14,
   "metadata": {},
   "outputs": [
    {
     "data": {
      "text/plain": [
       "{172.0}"
      ]
     },
     "execution_count": 14,
     "metadata": {},
     "output_type": "execute_result"
    }
   ],
   "source": [
    "solveset(eq.subs([(A, 243.2), (S, 1000)]))"
   ]
  },
  {
   "cell_type": "markdown",
   "metadata": {},
   "source": [
    "$\\qquad\\begin{aligned}243.2&=1000-4.4T\\\\ 4.4T&=756.8\\\\ T&=172\\end{aligned}$"
   ]
  },
  {
   "cell_type": "markdown",
   "metadata": {},
   "source": [
    "**It took the drive $172$ seconds to be completely full.**"
   ]
  },
  {
   "cell_type": "markdown",
   "metadata": {},
   "source": [
    "## Jada's cumin\n",
    "\n",
    "Jada has a stand in the marketplace where she sells ground cumin. Her weekly expenses are $\\$300$, and she sells her cumin at a fixed price per kilogram. If she sells $120$ kilograms of cumin, her weekly net profit is $\\$600$.\n",
    "\n",
    "**How many dollars per kilogram is Jada's cumin?**"
   ]
  },
  {
   "cell_type": "markdown",
   "metadata": {},
   "source": [
    "Let's say that each kilogram of cumin costs $C$ dollars. Then, $W$ kilograms of cumin cost $W\\cdot C$ dollars. In addition, we know that Jada's weekly expenses are $\\$300$.\n",
    "\n",
    "Jada's weekly net profit is found by taking her income from selling cumin and subtracting her weekly expenses. We can express this with the equation $P=W\\cdot C-300$, where:\n",
    "\n",
    "* $P$ represents Jada's weekly net profit (in dollars)\n",
    "* $W$ represents the amount of cumin she sold (in kilograms)\n",
    "* $C$ represents the price of $1$ kilogram of cumin (in dollars)"
   ]
  },
  {
   "cell_type": "code",
   "execution_count": 1,
   "metadata": {},
   "outputs": [],
   "source": [
    "from sympy import *\n",
    "P, W, C = symbols('P W C')\n",
    "eq = Eq(P, W * C - 300)"
   ]
  },
  {
   "cell_type": "markdown",
   "metadata": {},
   "source": [
    "We know that if Jada sells $120$ kilograms of cumin $(W={120})$ her weekly net profit is $\\$600$ $(P=600)$. Let's plug these values into the equation to find the value of $C$."
   ]
  },
  {
   "cell_type": "code",
   "execution_count": 2,
   "metadata": {},
   "outputs": [
    {
     "data": {
      "text/plain": [
       "{15/2}"
      ]
     },
     "execution_count": 2,
     "metadata": {},
     "output_type": "execute_result"
    }
   ],
   "source": [
    "solveset(eq.subs([(P, 600), (W, 120)]))"
   ]
  },
  {
   "cell_type": "markdown",
   "metadata": {},
   "source": [
    "$\\qquad \\begin{aligned}{600}&={120}\\cdot C-300\\\\ 120C&=900\\\\ C&=7.5\\end{aligned}$\n",
    "\n",
    "Therefore, each kilogram of Jada's cumin costs $\\$7.50$."
   ]
  },
  {
   "cell_type": "markdown",
   "metadata": {},
   "source": [
    "**How many kilograms of cumin does Jada have to sell to cover her weekly expenses?**"
   ]
  },
  {
   "cell_type": "markdown",
   "metadata": {},
   "source": [
    "Plug $P=0$ into the equation and solve for $W$:"
   ]
  },
  {
   "cell_type": "code",
   "execution_count": 9,
   "metadata": {},
   "outputs": [
    {
     "data": {
      "text/plain": [
       "{40.0}"
      ]
     },
     "execution_count": 9,
     "metadata": {},
     "output_type": "execute_result"
    }
   ],
   "source": [
    "solveset(eq.subs([(P, 0), (C, 7.5)]), W)"
   ]
  },
  {
   "cell_type": "markdown",
   "metadata": {},
   "source": [
    "$\\qquad\\begin{aligned}0&=W\\cdot7.5-300\\\\ 7.5W&=300\\\\ W&=40\\end{aligned}$\n",
    "\n",
    "* **Each kilogram of Jada's cumin costs $\\$7.50$.**\n",
    "\n",
    "* **Jada has to sell $40$ kilograms of cumin to cover her weekly expenses.**"
   ]
  },
  {
   "cell_type": "markdown",
   "metadata": {},
   "source": [
    "## Alexandra's cumin\n",
    "\n",
    "Alexandra has a stand in the marketplace where she sells ground cumin. She has a fixed amount of weekly expenses, and she sells her cumin for $\\$7.20$ per kilogram. If she sells $90$ kilograms of cumin, her weekly net profit is $\\$414$.\n",
    "\n",
    "**What are Alexandra's weekly expenses?**"
   ]
  },
  {
   "cell_type": "markdown",
   "metadata": {},
   "source": [
    "Each kilogram of Alexandra's cumin costs $\\$7.20$ so Alexandra makes a profit of $7.2W$ dollars for selling $W$ kilograms of cumin.\n",
    "\n",
    "Alexandra's weekly net profit is found by taking her income from selling cumin and subtracting from it her weekly expenses. We can express this with the equation $P=7.2W-E$, where:\n",
    "\n",
    "* $P$ represents Alexandra's weekly net profit (in dollars)\n",
    "* $W$ represents the amount of cumin she sold (in kilograms)\n",
    "* $E$ represents Alexandra's expenses (in dollars)"
   ]
  },
  {
   "cell_type": "code",
   "execution_count": 14,
   "metadata": {},
   "outputs": [],
   "source": [
    "from sympy import *\n",
    "P, W, E = symbols('P W E')\n",
    "eq = Eq(P, 7.2 * W - E)"
   ]
  },
  {
   "cell_type": "markdown",
   "metadata": {},
   "source": [
    "We want to find $E$, so let's first solve the equation for $E$:"
   ]
  },
  {
   "cell_type": "code",
   "execution_count": 15,
   "metadata": {},
   "outputs": [
    {
     "data": {
      "text/plain": [
       "{-P + 7.2*W}"
      ]
     },
     "execution_count": 15,
     "metadata": {},
     "output_type": "execute_result"
    }
   ],
   "source": [
    "solveset(eq, E)"
   ]
  },
  {
   "cell_type": "markdown",
   "metadata": {},
   "source": [
    "$\\qquad\\begin{aligned}P&=7.2W-E\\\\ E&=7.2W-P\\end{aligned}$\n",
    "\n",
    "Now, we know that if Alexandra sells $90$ kilograms of cumin $(W={90})$, her weekly net profit is $\\$414$ $(P={414})$. Let's plug these values into the equation to find the value of $E$."
   ]
  },
  {
   "cell_type": "code",
   "execution_count": 16,
   "metadata": {},
   "outputs": [
    {
     "data": {
      "text/plain": [
       "{234.0}"
      ]
     },
     "execution_count": 16,
     "metadata": {},
     "output_type": "execute_result"
    }
   ],
   "source": [
    "solveset(eq, E).subs([(W, 90), (P, 414)])"
   ]
  },
  {
   "cell_type": "markdown",
   "metadata": {},
   "source": [
    "$\\qquad E=7.2\\cdot{90}-{414}=234$\n",
    "\n",
    "Therefore, Alexandra's weekly expenses are $\\$234$."
   ]
  },
  {
   "cell_type": "markdown",
   "metadata": {},
   "source": [
    "**How many kilograms of cumin does Alexandra have to sell to cover her weekly expenses?**"
   ]
  },
  {
   "cell_type": "markdown",
   "metadata": {},
   "source": [
    "To find how much cumin Alexandra has to sell to cover her weekly expenses, we can plug $P=0$, into the equation and solve for $W$."
   ]
  },
  {
   "cell_type": "code",
   "execution_count": 18,
   "metadata": {},
   "outputs": [
    {
     "data": {
      "text/plain": [
       "{32.5}"
      ]
     },
     "execution_count": 18,
     "metadata": {},
     "output_type": "execute_result"
    }
   ],
   "source": [
    "solveset(eq, W).subs([(E, 234), (P, 0)])"
   ]
  },
  {
   "cell_type": "markdown",
   "metadata": {},
   "source": [
    "$\\qquad\\begin{aligned}234&=7.2W-0\\\\ 7.2W&=234\\\\ W&=32.5\\end{aligned}$\n",
    "\n",
    "* **Alexandra's weekly expenses are $\\$234$.**\n",
    "\n",
    "* **Alexandra has to sell $32.5$ kilograms of cumin to cover her weekly expenses.**"
   ]
  },
  {
   "cell_type": "markdown",
   "metadata": {},
   "source": [
    "## William's marbles\n",
    "\n",
    "William has a $26$-liter glass tank. First, he wants to put some marbles in it, all of the same volume. Then, he wants to fill the tank with water until it's completely full. If he uses $85$ marbles, he will have to add $20.9$ liters of water."
   ]
  },
  {
   "cell_type": "markdown",
   "metadata": {},
   "source": [
    "**How many liters is each marble?**"
   ]
  },
  {
   "cell_type": "markdown",
   "metadata": {},
   "source": [
    "Let's say that the volume of a single marble is $V$ liters. Then, the volume of $N$ marbles is $N\\cdot V$ liters. In addition, we know that the volume of the tank is $26$ liters."
   ]
  },
  {
   "cell_type": "markdown",
   "metadata": {},
   "source": [
    "The sum of the water's volume and the marbles' volume should be equal to the tank's volume. We can express this with the equation $W+N\\cdot V=26$, where:\n",
    "* $W$ represents the volume of water used (in liters)\n",
    "* $N$ represents the number of marbles used\n",
    "* $V$ represents the volume of a single marble (in liters)"
   ]
  },
  {
   "cell_type": "code",
   "execution_count": 19,
   "metadata": {},
   "outputs": [],
   "source": [
    "from sympy import *\n",
    "W, N, V = symbols('W N V')\n",
    "eq = Eq(W + N * V, 26)"
   ]
  },
  {
   "cell_type": "markdown",
   "metadata": {},
   "source": [
    "We know that if William uses $85$ marbles $(N={85})$, he will have to add $20.9$ liters of water $(W={20.9})$. Let's plug these values into the equation to find the value of $V$:"
   ]
  },
  {
   "cell_type": "code",
   "execution_count": 21,
   "metadata": {},
   "outputs": [
    {
     "data": {
      "text/plain": [
       "{0.06}"
      ]
     },
     "execution_count": 21,
     "metadata": {},
     "output_type": "execute_result"
    }
   ],
   "source": [
    "solveset(eq.subs([(N, 85), (W, 20.9)]))"
   ]
  },
  {
   "cell_type": "markdown",
   "metadata": {},
   "source": [
    "$\\qquad \\begin{aligned}{20.9}+{85}V&=26\\\\ 85V&=5.1\\\\ V&=0.06\\end{aligned}$\n",
    "\n",
    "Therefore, the volume of each marble is $0.06$ liters."
   ]
  },
  {
   "cell_type": "markdown",
   "metadata": {},
   "source": [
    "**How many liters of water is necessary if William uses $200$ marbles?**"
   ]
  },
  {
   "cell_type": "markdown",
   "metadata": {},
   "source": [
    "Plug $N=200$ into the equation and solve for $W$:"
   ]
  },
  {
   "cell_type": "code",
   "execution_count": 25,
   "metadata": {},
   "outputs": [
    {
     "data": {
      "text/plain": [
       "{-200*V + 26}"
      ]
     },
     "execution_count": 25,
     "metadata": {},
     "output_type": "execute_result"
    }
   ],
   "source": [
    "solveset(eq.subs(N, 200), W)"
   ]
  },
  {
   "cell_type": "markdown",
   "metadata": {},
   "source": [
    "$\\qquad\\begin{aligned}W+200\\cdot 0.06&=26\\\\ W&=26-12\\\\ W&=14\\end{aligned}$\n",
    "\n",
    "* **The volume of each marble is $0.060$ liters.**\n",
    "\n",
    "* **William needs $14$ liters of water if he uses $200$ marbles.**"
   ]
  },
  {
   "cell_type": "markdown",
   "metadata": {},
   "source": [
    "## Zane's volcano climbing\n",
    "\n",
    "Zane is a dangerous fellow who likes to go rock climbing in active volcanoes. One time while inside a volcano, he heard some rumbling, so he decided to climb up out of there as quickly as he could. He climbed up at a rate of $4$ meters per second. After $3$ seconds, he was $13$ meters below the edge of the volcano.\n",
    "\n",
    "**How many meters was Zane below the edge of the volcano when he started climbing?**"
   ]
  },
  {
   "cell_type": "markdown",
   "metadata": {},
   "source": [
    "Zane climbed up at a rate of $4$ meters per second, so he climbed up $4T$ meters in $T$ seconds.\n",
    "\n",
    "The remaining distance Zane had to climb is found by taking the original distance and subtracting from it the distance Zane had already climbed. We can express this with the equation $R=D-4T$, where:\n",
    "* $R$ represents Zane's remaining distance to climb (in meters)\n",
    "* $D$ represents Zane's original distance from the edge of the volcano (in meters)\n",
    "* $T$ represents the time (in seconds)"
   ]
  },
  {
   "cell_type": "code",
   "execution_count": 26,
   "metadata": {},
   "outputs": [],
   "source": [
    "from sympy import *\n",
    "R, D, T = symbols('R D T')\n",
    "eq = Eq(R, D - 4 * T)"
   ]
  },
  {
   "cell_type": "markdown",
   "metadata": {},
   "source": [
    "We want to find $D$, so let's first solve the equation for $D$:"
   ]
  },
  {
   "cell_type": "code",
   "execution_count": 27,
   "metadata": {},
   "outputs": [
    {
     "data": {
      "text/plain": [
       "{R + 4*T}"
      ]
     },
     "execution_count": 27,
     "metadata": {},
     "output_type": "execute_result"
    }
   ],
   "source": [
    "solveset(eq, D)"
   ]
  },
  {
   "cell_type": "markdown",
   "metadata": {},
   "source": [
    "$\\qquad\\begin{aligned}R&=D-4T\\\\ D&=R+4T\\end{aligned}$\n",
    "\n",
    "Now, we know that after $3$ seconds $(T={3})$, Zane was $13$ meters below the edge of the volcano $(R={13})$. Let's plug these values into the equation to find the value of $D$."
   ]
  },
  {
   "cell_type": "code",
   "execution_count": 28,
   "metadata": {},
   "outputs": [
    {
     "data": {
      "text/plain": [
       "{25}"
      ]
     },
     "execution_count": 28,
     "metadata": {},
     "output_type": "execute_result"
    }
   ],
   "source": [
    "solveset(eq.subs([(T, 3), (R, 13)]), D)"
   ]
  },
  {
   "cell_type": "markdown",
   "metadata": {},
   "source": [
    "$\\qquad D={13}+4\\cdot{3}=25$\n",
    "\n",
    "Therefore, Zane was $25$ meters below the edge of the volcano when he started climbing."
   ]
  },
  {
   "cell_type": "markdown",
   "metadata": {},
   "source": [
    "**In total, how many seconds did it take Zane to reach the edge of the volcano?**"
   ]
  },
  {
   "cell_type": "markdown",
   "metadata": {},
   "source": [
    "Plug $R=0$ into the equation and solve for $T$."
   ]
  },
  {
   "cell_type": "code",
   "execution_count": 31,
   "metadata": {},
   "outputs": [
    {
     "data": {
      "text/plain": [
       "{6.25}"
      ]
     },
     "execution_count": 31,
     "metadata": {},
     "output_type": "execute_result"
    }
   ],
   "source": [
    "solveset(eq.subs([(R, 0), (D, 25.0)]), T)"
   ]
  },
  {
   "cell_type": "markdown",
   "metadata": {},
   "source": [
    "$\\qquad\\begin{aligned}25&=0+4T\\\\ 4T&=25\\\\ T&=6.25\\end{aligned}$\n",
    "\n",
    "* **Zane was $25$ meters below the edge of the volcano when he started climbing.**\n",
    "\n",
    "* **It took Zane $6.25$ seconds to reach the edge of the volcano.**"
   ]
  },
  {
   "cell_type": "markdown",
   "metadata": {},
   "source": [
    "## Shryia's book reading\n",
    "\n",
    "Shryia read a $481$-page-long book cover to cover in a single session, at a constant rate. After reading for $1.5$ hours, she had $403$ pages left to read.\n",
    "\n",
    "**How many pages per hour was Shryia reading?**"
   ]
  },
  {
   "cell_type": "markdown",
   "metadata": {},
   "source": [
    "Let's say that Shryia was reading at a rate of $V$ pages per hour. Then, she read $V\\cdot T$ pages in $T$ hours. In addition, we know that she had $481$ pages to read in total.\n",
    "\n",
    "The total number of pages is comprised of the number of pages Shryia had already read and the number of pages that remained. We can express this with the equation $481=V\\cdot T+R$, where:\n",
    "* $V$ represents Shryia's reading speed (in pages per hour)\n",
    "* $T$ represents the time (in hours)\n",
    "* $R$ represents the number of remaining pages to read at a given time"
   ]
  },
  {
   "cell_type": "code",
   "execution_count": 32,
   "metadata": {},
   "outputs": [],
   "source": [
    "from sympy import *\n",
    "V, T, R = symbols('V T R')\n",
    "eq = Eq(481, V * T + R)"
   ]
  },
  {
   "cell_type": "markdown",
   "metadata": {},
   "source": [
    "We know that after $1.5$ hours $(T={1.5})$, Shryia had $403$ pages left to read $(R={403})$. Let's plug these values into the equation to find the value of $V$."
   ]
  },
  {
   "cell_type": "code",
   "execution_count": 34,
   "metadata": {},
   "outputs": [
    {
     "data": {
      "text/plain": [
       "{52.0}"
      ]
     },
     "execution_count": 34,
     "metadata": {},
     "output_type": "execute_result"
    }
   ],
   "source": [
    "solveset(eq.subs([(T, 1.5), (R, 403)]))"
   ]
  },
  {
   "cell_type": "markdown",
   "metadata": {},
   "source": [
    "$\\qquad \\begin{aligned}481&=V\\cdot{1.5}+{403}\\\\ 1.5V&=78\\\\ V&=52\\end{aligned}$\n",
    "\n",
    "Therefore, Shryia was reading at a rate of $52$ pages per hour."
   ]
  },
  {
   "cell_type": "markdown",
   "metadata": {},
   "source": [
    "**How many hours did it take her to read the entire book?**"
   ]
  },
  {
   "cell_type": "markdown",
   "metadata": {},
   "source": [
    "To find how long it took Shryia to finish the entire book, we can plug $R=0$ into the equation and solve for $T$."
   ]
  },
  {
   "cell_type": "code",
   "execution_count": 36,
   "metadata": {},
   "outputs": [
    {
     "data": {
      "text/plain": [
       "{9.25}"
      ]
     },
     "execution_count": 36,
     "metadata": {},
     "output_type": "execute_result"
    }
   ],
   "source": [
    "solveset(eq.subs([(R, 0), (V, 52.0)]))"
   ]
  },
  {
   "cell_type": "markdown",
   "metadata": {},
   "source": [
    "$\\qquad\\begin{aligned}481&=52T+0\\\\ 52T&=481\\\\ T&=9.25\\end{aligned}$\n",
    "\n",
    "* **Shryia was reading at a rate of $52$ pages per hour.**\n",
    "\n",
    "* **It took Shryia $9.25$ hours to finish the entire book.**"
   ]
  },
  {
   "cell_type": "markdown",
   "metadata": {},
   "source": [
    "## Andrei's tank of marbles\n",
    "\n",
    "Andrei has a glass tank. First, he wants to put in some marbles, each of which has a volume of $0.04$ liters. Then, he wants to fill the tank with water until it's completely full. If he uses $50$ marbles, he will have to add $33$ liters of water.\n",
    "\n",
    "**How many liters is the volume of the tank?**"
   ]
  },
  {
   "cell_type": "markdown",
   "metadata": {},
   "source": [
    "The volume of each marble is $0.04$ liters, so the volume of $N$ marbles is $0.04N$ liters.\n",
    "\n",
    "The sum of the water's volume and the marbles' volume should be equal to the tank's volume. We can express this with the equation $W+0.04N=T$, where:\n",
    "* $W$ represents the volume of water used (in liters)\n",
    "* $N$ represents the number of marbles used\n",
    "* $T$ represents the tank's volume (in liters)"
   ]
  },
  {
   "cell_type": "code",
   "execution_count": 37,
   "metadata": {},
   "outputs": [],
   "source": [
    "from sympy import *\n",
    "W, N, T = symbols('W N T')\n",
    "eq = Eq(W + 0.04 * N, T)"
   ]
  },
  {
   "cell_type": "markdown",
   "metadata": {},
   "source": [
    "We know that if Andrei uses $50$ marbles $(N={50})$, he will have to add $33$ liters of water $(W={33})$. Let's plug these values into the equation to find the value of $T$."
   ]
  },
  {
   "cell_type": "code",
   "execution_count": 39,
   "metadata": {},
   "outputs": [
    {
     "data": {
      "text/plain": [
       "{35.0}"
      ]
     },
     "execution_count": 39,
     "metadata": {},
     "output_type": "execute_result"
    }
   ],
   "source": [
    "solveset(eq.subs([(N, 50), (W, 33)]))"
   ]
  },
  {
   "cell_type": "markdown",
   "metadata": {},
   "source": [
    "$\\qquad T={33}+0.04\\cdot{50}=35$\n",
    "\n",
    "Therefore, the volume of the tank is $35$ liters."
   ]
  },
  {
   "cell_type": "markdown",
   "metadata": {},
   "source": [
    "**Andrei has exactly $20$ liters of water. How many marbles does he need so the tank is full?**"
   ]
  },
  {
   "cell_type": "markdown",
   "metadata": {},
   "source": [
    "To find the number of marbles that corresponds to $20$ liters of water, we can plug $W=20$ into the equation and solve for $N$."
   ]
  },
  {
   "cell_type": "code",
   "execution_count": 40,
   "metadata": {},
   "outputs": [
    {
     "data": {
      "text/plain": [
       "{375.0}"
      ]
     },
     "execution_count": 40,
     "metadata": {},
     "output_type": "execute_result"
    }
   ],
   "source": [
    "solveset(eq.subs([(T, 35), (W, 20)]))"
   ]
  },
  {
   "cell_type": "markdown",
   "metadata": {},
   "source": [
    "$\\qquad\\begin{aligned}35&=20+0.04N\\\\ 0.04N&=15\\\\ N&=375\\end{aligned}$\n",
    "\n",
    "* **The volume of the tank is $35$ liters.**\n",
    "\n",
    "* **Andrei needs $375$ marbles to fill up the tank with $20$ liters of water.**"
   ]
  },
  {
   "cell_type": "markdown",
   "metadata": {},
   "source": [
    "## Wang Yong's debt payment\n",
    "\n",
    "Wang Yong owes the bank $\\$8500$. To repay the debt, he paid a fixed amount back to the bank each month. After $12$ months, his remaining debt was $\\$6460$.\n",
    "\n",
    "**How much did Wang Yong pay each month?**"
   ]
  },
  {
   "cell_type": "markdown",
   "metadata": {},
   "source": [
    "**How many months did it take Wang Yong to pay back his entire debt?**"
   ]
  },
  {
   "cell_type": "markdown",
   "metadata": {},
   "source": [
    "Let's say that Wang Yong pays $V$ dollars back to the bank each month. Then, he pays $V\\cdot T$ dollars in $T$ months. In addition, we know that his original debt was $\\$8500$.\n",
    "\n",
    "Wang Yong's remaining debt is found by taking the original debt and subtracting from it the money he already paid back. We can express this with the equation $R=8500-V\\cdot T$, where:\n",
    "* $R$ represents Wang Yong's remaining debt at a given time (in dollars)\n",
    "* $V$ represents Wang Yong's monthly payment to the bank(in dollars)\n",
    "* $T$ represents the time (in months)"
   ]
  },
  {
   "cell_type": "code",
   "execution_count": 41,
   "metadata": {},
   "outputs": [],
   "source": [
    "from sympy import *\n",
    "R, V, T = symbols('R V T')\n",
    "eq = Eq(R, 8500 - V * T)"
   ]
  },
  {
   "cell_type": "markdown",
   "metadata": {},
   "source": [
    "We know that after $12$ months $(T={12})$, Wang Yong's remaining debt was $\\$6460$ $(R={6460})$. Let's plug these values into the equation to find the value of $V$."
   ]
  },
  {
   "cell_type": "code",
   "execution_count": 42,
   "metadata": {},
   "outputs": [
    {
     "data": {
      "text/plain": [
       "{170}"
      ]
     },
     "execution_count": 42,
     "metadata": {},
     "output_type": "execute_result"
    }
   ],
   "source": [
    "solveset(eq.subs([(T, 12), (R, 6460)]))"
   ]
  },
  {
   "cell_type": "markdown",
   "metadata": {},
   "source": [
    "$\\qquad \\begin{aligned}{6460}&=8500-V\\cdot{12}\\\\ 12V&=2040\\\\ V&=170\\end{aligned}$\n",
    "\n",
    "Therefore, Wang Yong paid the bank $\\$170$ each month."
   ]
  },
  {
   "cell_type": "markdown",
   "metadata": {},
   "source": [
    "To find how long it took Wang Yong to pay back his entire debt, we can plug $R=0$ into the equation and solve for $T$."
   ]
  },
  {
   "cell_type": "code",
   "execution_count": 43,
   "metadata": {},
   "outputs": [
    {
     "data": {
      "text/plain": [
       "{50}"
      ]
     },
     "execution_count": 43,
     "metadata": {},
     "output_type": "execute_result"
    }
   ],
   "source": [
    "solveset(eq.subs([(R, 0), (V, 170)]))"
   ]
  },
  {
   "cell_type": "markdown",
   "metadata": {},
   "source": [
    "$\\qquad\\begin{aligned}0&=8500-170T\\\\ 170T&=8500\\\\ T&=50\\end{aligned}$\n",
    "\n",
    "* **Wang Yong paid the bank $\\$170$ each month.**\n",
    "\n",
    "* **It took Wang Yong $50$ months to pay back his entire debt.**"
   ]
  }
 ],
 "metadata": {
  "kernelspec": {
   "display_name": "Python 3",
   "language": "python",
   "name": "python3"
  },
  "language_info": {
   "codemirror_mode": {
    "name": "ipython",
    "version": 3
   },
   "file_extension": ".py",
   "mimetype": "text/x-python",
   "name": "python",
   "nbconvert_exporter": "python",
   "pygments_lexer": "ipython3",
   "version": "3.7.1"
  }
 },
 "nbformat": 4,
 "nbformat_minor": 2
}
