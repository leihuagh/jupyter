{
 "cells": [
  {
   "cell_type": "markdown",
   "metadata": {},
   "source": [
    "# Systems of inequalities\n",
    "\n",
    "## Pierre's tables and chairs\n",
    "\n",
    "Pierre wants to make tables and chairs. He has a total of $220$ wooden boards and $760$ nails.\n",
    "\n",
    "$13 T+8 C \\leq 220$ represents the number of tables $T$ and chairs $C$ he can make with $220$ wooden boards.\n",
    "\n",
    "$48 T+37 C \\leq 760$ represents the number of tables and chairs he can make with $760$ nails.\n",
    "\n",
    "**Does Pierre have enough boards and nails to make $9$ tables and $5$ chairs?**"
   ]
  },
  {
   "cell_type": "code",
   "execution_count": 7,
   "metadata": {},
   "outputs": [
    {
     "data": {
      "text/plain": [
       "True"
      ]
     },
     "execution_count": 7,
     "metadata": {},
     "output_type": "execute_result"
    }
   ],
   "source": [
    "from sympy import *\n",
    "from sympy.solvers.inequalities import reduce_rational_inequalities\n",
    "T, C = symbols('T C')\n",
    "ineq1 = 13*T + 8*C <= 220\n",
    "ineq2 = 48*T + 37*C <= 760\n",
    "ineq1.subs([(T, 9), (C, 5)])"
   ]
  },
  {
   "cell_type": "markdown",
   "metadata": {},
   "source": [
    "## Makhaya's math and writing assignments\n",
    "\n",
    "It takes Makhaya $75$ minutes and $3$ paper sheets to complete a writing assignment, and it takes him $15$ minutes and $1$ paper sheet to complete a math assignment.\n",
    "\n",
    "Makhaya is required to spend more than $300$ minutes to complete assignments, and he can use at most $20$ paper sheets.\n",
    "\n",
    "Let $W$ denote the number of writing assignments he completes and $M$ the number of math assignments he completes.\n",
    "\n",
    "**Write an inequality that represents the condition based on the number of minutes.**\n",
    "\n",
    "**Write an inequality that represents the condition based on the number of paper sheets.**"
   ]
  },
  {
   "cell_type": "code",
   "execution_count": null,
   "metadata": {},
   "outputs": [],
   "source": [
    "W, M = symbols('W M')\n",
    "ineq1 = 75*W + 15*M > 300\n",
    "ineq2 = 3*W + 1*M <= 20"
   ]
  },
  {
   "cell_type": "markdown",
   "metadata": {},
   "source": [
    "## Wladyslaw's jasmine and lily plants\n",
    "\n",
    "Wladyslaw wants to water jasmine plants and lily plants in his garden. His goal is to water at least $20$ plants (condition $A$) with $12$ liters of water at most (condition $B$).\n",
    "\n",
    "The graph represents the constraints on the number of jasmine $J$ and lily $L$ plants Wladyslaw waters."
   ]
  },
  {
   "cell_type": "code",
   "execution_count": null,
   "metadata": {},
   "outputs": [],
   "source": [
    "import matplotlib.pyplot as plt\n",
    "\n",
    "data = { \n",
    "     'x' : [0, 100, 500, 1200, 1700],\n",
    "     'y' : [8500, 8000, 6000, 2500, 0]\n",
    "}\n",
    "\n",
    "x1 = data['x'][0]\n",
    "x2 = data['x'][1]\n",
    "y1 = data['y'][0]\n",
    "y2 = data['y'][1]\n",
    "\n",
    "plt.plot(data['x'], data['y'])\n",
    "plt.grid(True)\n",
    "plt.show()"
   ]
  },
  {
   "cell_type": "markdown",
   "metadata": {},
   "source": [
    "What is the least number of jasmine plants Wladyslaw must water to meet both his constraints?"
   ]
  },
  {
   "cell_type": "code",
   "execution_count": null,
   "metadata": {},
   "outputs": [],
   "source": []
  }
 ],
 "metadata": {
  "kernelspec": {
   "display_name": "Python 3",
   "language": "python",
   "name": "python3"
  },
  "language_info": {
   "codemirror_mode": {
    "name": "ipython",
    "version": 3
   },
   "file_extension": ".py",
   "mimetype": "text/x-python",
   "name": "python",
   "nbconvert_exporter": "python",
   "pygments_lexer": "ipython3",
   "version": "3.7.1"
  }
 },
 "nbformat": 4,
 "nbformat_minor": 2
}
