{
 "cells": [
  {
   "cell_type": "markdown",
   "metadata": {},
   "source": [
    "# [Writing linear functions](https://www.khanacademy.org/math/algebra/linear-word-problems/modal/e/constructing-linear-functions-word-problems)\n",
    "\n",
    "A young sumo wrestler decided to go on a special high-protein diet to gain weight rapidly. He started at $90$ kilograms and gained weight at a constant rate. After $8$ months, he weighed $138$ kilograms.\n",
    "\n",
    "Let $W(t)$ denote the sumo wrestler's weight $W$ (measured in kilograms) as a function of time $t$ (measured in months).\n",
    "\n",
    "**Write the function's formula.**"
   ]
  },
  {
   "cell_type": "markdown",
   "metadata": {},
   "source": [
    "The sumo wrestler gained weight at a constant rate, so we are dealing with a linear relationship.\n",
    "\n",
    "The desired formula could be written in slope-intercept form: $W(t)=mt+b$. In this form, $m$ gives us the slope of the graph of the function and $b$ gives us its $y$-intercept. Our goal is to find the values of $b$ and $m$ and substitute them into this formula."
   ]
  },
  {
   "cell_type": "markdown",
   "metadata": {},
   "source": [
    "The wrestler's initial weight was $90$ kilograms. This means that $W(0)={90}$, or in other words, that the $y$-intercept of the graph of the function is the point $(0,{90})$. We conclude that $b={90}$.\n",
    "\n",
    "We also know that after $8$ months, the wrestler weighed $138$ kilograms, which means that $W(8)=138$, or in other words, that the point $(8,138)$ lies on the graph of the function. Let's use the two points we have to find the slope."
   ]
  },
  {
   "cell_type": "markdown",
   "metadata": {},
   "source": [
    "The two pairs we have are $(0,90)$ and $(8,138)$. To find the slope $m$, we need to take the ratio of the corresponding differences in the $y$-values and the $x$-values:\n",
    "\n",
    "$\\qquad m=\\dfrac{138-90}{8-0}=\\dfrac{48}{8}={6}$\n",
    "\n",
    "This means that the sumo wrestler gained $6$ kilograms each month."
   ]
  },
  {
   "cell_type": "markdown",
   "metadata": {},
   "source": [
    "Since $b={90}$ and $m={6}$, the desired formula is:\n",
    "\n",
    "$\\qquad W(t)={6}t+{90}$"
   ]
  },
  {
   "cell_type": "code",
   "execution_count": null,
   "metadata": {},
   "outputs": [],
   "source": []
  }
 ],
 "metadata": {
  "kernelspec": {
   "display_name": "Python 3",
   "language": "python",
   "name": "python3"
  },
  "language_info": {
   "codemirror_mode": {
    "name": "ipython",
    "version": 3
   },
   "file_extension": ".py",
   "mimetype": "text/x-python",
   "name": "python",
   "nbconvert_exporter": "python",
   "pygments_lexer": "ipython3",
   "version": "3.7.1"
  }
 },
 "nbformat": 4,
 "nbformat_minor": 2
}
