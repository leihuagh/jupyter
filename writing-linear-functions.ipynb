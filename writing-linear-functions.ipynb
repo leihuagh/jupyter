{
 "cells": [
  {
   "cell_type": "markdown",
   "metadata": {},
   "source": [
    "# [Writing linear functions](https://www.khanacademy.org/math/algebra/linear-word-problems/modal/e/constructing-linear-functions-word-problems)\n",
    "\n",
    "## The young sumo wrestler's high-protein weight-gain diet\n",
    "\n",
    "A young sumo wrestler decided to go on a special high-protein diet to gain weight rapidly. He started at $90$ kilograms and gained weight at a constant rate. After $8$ months, he weighed $138$ kilograms.\n",
    "\n",
    "Let $W(t)$ denote the sumo wrestler's weight $W$ (measured in kilograms) as a function of time $t$ (measured in months).\n",
    "\n",
    "**Write the function's formula.**\n",
    "\n",
    "$\\qquad W(t)=?$"
   ]
  },
  {
   "cell_type": "markdown",
   "metadata": {},
   "source": [
    "The sumo wrestler gained weight at a constant rate, so we are dealing with a linear relationship.\n",
    "\n",
    "The desired formula could be written in slope-intercept form: $W(t)=mt+b$. In this form, $m$ gives us the slope of the graph of the function and $b$ gives us its $y$-intercept. Our goal is to find the values of $b$ and $m$ and substitute them into this formula."
   ]
  },
  {
   "cell_type": "markdown",
   "metadata": {},
   "source": [
    "The wrestler's initial weight was $90$ kilograms. This means that $W(0)={90}$, or in other words, that the $y$-intercept of the graph of the function is the point $(0,{90})$. We conclude that $b={90}$.\n",
    "\n",
    "We also know that after $8$ months, the wrestler weighed $138$ kilograms, which means that $W(8)=138$, or in other words, that the point $(8,138)$ lies on the graph of the function. Let's use the two points we have to find the slope."
   ]
  },
  {
   "cell_type": "markdown",
   "metadata": {},
   "source": [
    "The two pairs we have are $(0,90)$ and $(8,138)$. To find the slope $m$, we need to take the ratio of the corresponding differences in the $y$-values and the $x$-values:\n",
    "\n",
    "$\\qquad m=\\dfrac{138-90}{8-0}=\\dfrac{48}{8}={6}$\n",
    "\n",
    "This means that the sumo wrestler gained $6$ kilograms each month."
   ]
  },
  {
   "cell_type": "markdown",
   "metadata": {},
   "source": [
    "Since $b={90}$ and $m={6}$, the desired formula is:\n",
    "\n",
    "$\\qquad W(t)={6}t+{90}$"
   ]
  },
  {
   "cell_type": "markdown",
   "metadata": {},
   "source": [
    "## Mr. Mole's burrow\n",
    "\n",
    "Mr. Mole left his burrow that lies below the ground and started digging his way deeper into the ground, descending at a rate of $1.8$ meters per minute. After $5$ minutes, he was $13.5$ meters below the ground.\n",
    "\n",
    "Let $A(t)$ denote Mr. Mole's altitude relative to the ground $A$ (measured in meters) as a function of time $t$ (measured in minutes).\n",
    "\n",
    "**Write the function's formula.**\n",
    "\n",
    "$A(t)=?$ \n",
    "\n",
    "Mr. Mole is descending at a constant rate, so we are dealing with a linear relationship.\n",
    "\n",
    "The desired formula could be written in slope-intercept form: $A(t)=mt+b$. In this form, $m$ gives us the slope of the graph of the function and $b$ gives us its $y$-intercept. Our goal is to find the values of $b$ and $m$ and substitute them into this formula.\n",
    "\n",
    "We know that Mr. Mole descended at a rate of $1.8$ meters per minute, so the slope $m$ is ${-1.8}$, and our function looks like $A(t)={-1.8}t+b$.\n",
    "\n",
    "We also know that after $5$ minutes, Mr. Mole was $13.5$ meters below the ground, which means that $A(5)=-13.5$. We can substitute this into the formula of the function to find $b$:\n",
    "\n",
    "$\\qquad\\begin{aligned}A(5)&=-13.5\\\\ {-1.8}\\cdot5+b&=-13.5\\\\ -9+b&=-13.5\\\\  b&={-4.5}\\end{aligned}$ \n",
    " \n",
    "This means that Mr. Mole's initial altitude is $4.5$ meters below the ground.\n",
    "\n",
    "Since $b = {-4.5}$ and $m = {-1.8}$, the desired formula is:\n",
    "\n",
    "$\\qquad A(t)={-1.8}t{-4.5}$"
   ]
  },
  {
   "cell_type": "markdown",
   "metadata": {},
   "source": [
    "## Nour's drive from the Dead Sea\n",
    "\n",
    "Nour drove from the Dead Sea up to Amman, and her altitude increased at a constant rate. When she began driving, her altitude was $400$ meters below sea level. When she arrived in Amman $2$ hours later, her altitude was $1000$ meters above sea level.\n",
    "\n",
    "Let $A(t)$ denote Nour's altitude relative to sea level $A$ (measured in meters) as a function of time $t$ (measured in hours).\n",
    "\n",
    "**Write the function's formula.**\n",
    "\n",
    "$A(t)=?$ \n",
    "\n",
    "Nour's altitude increases at a *constant* rate, so we are dealing with a *linear* relationship.\n",
    "\n",
    "The desired formula could be written in slope-intercept form: $A(t)=mt+b$. In this form, $m$ gives us the slope of the graph of the function and $b$ gives us its $y$-intercept. Our goal is to find the values of $b$ and $m$ and substitute them into this formula.\n",
    "\n",
    "Nour's initial altitude was $400$ meters below sea level. This means that $A(0)={-400}$, or in other words, that the $y$-intercept of the graph of the function is the point $(0,{-400})$. We conclude that $b = {-400}$.\n",
    "\n",
    "We also know that $2$ hours later, Nour's altitude was $1000$ meters above sea level, which means that $A(2)=1000$, or in other words, that the point $(2, 1000)$ lies on the graph of the function. Let's use the two points we have to find the slope.\n",
    "\n",
    "The two pairs we have are $(0,-400)$ and $(2,1000)$. To find the slope $m$, we need to take the ratio of the corresponding differences in the $y$-values and the $x$-values:\n",
    "\n",
    "$\\qquad m=\\dfrac{1000-(-400)}{2-0}=\\dfrac{1400}{2}={700}$\n",
    "\n",
    "This means that Nour's altitude increased at $700$ meters per hour.\n",
    "\n",
    "Since $b = {-400}$ and $m = {700}$, the desired formula is:\n",
    "\n",
    "$\\qquad A(t)={700}t{-400}$"
   ]
  },
  {
   "cell_type": "markdown",
   "metadata": {},
   "source": [
    "## Noa's drive from the Dead Sea\n",
    "\n",
    "Noa drove from the Dead Sea up to Jerusalem, and her altitude increased at a constant rate of $740$ meters per hour. When she arrived in Jerusalem after $1.5$ hours of driving, her altitude was $710$ meters above sea level.\n",
    "\n",
    "Let $A(t)$ denote Noa's altitude relative to sea level $A$ (measured in meters) as a function of time $t$ (measured in hours).\n",
    "\n",
    "**Write the function's formula.**\n",
    "\n",
    "$A(t)=?$ \n",
    "\n",
    "Noa's altitude increases at a *constant* rate, so we are dealing with a *linear* relationship.\n",
    "\n",
    "The desired formula could be written in slope-intercept form: $A(t)= mt+b$. In this form, $m$ gives us the slope of the graph of the function and $b$ gives us its $y$-intercept. Our goal is to find the values of $b$ and $m$ and substitute them into this formula.\n",
    "\n",
    "We know that Noa's altitude increased at a rate of $740$ meters per hour, so the slope $m$ is ${740}$, and our function looks like $A(t)={740}t+b$.\n",
    "\n",
    "We also know that after driving for $1.5$ hours, Noa's altitude was $710$ meters above sea level, which means that $A(1.5)=710$. We can substitute this into the formula of the function to find $b$:\n",
    "\n",
    "$\\qquad\\begin{aligned}A(1.5)&=710\\\\ {740}\\cdot1.5+b&=710\\\\ 1110+b&=710\\\\ b&={-400}\\end{aligned}$\n",
    "\t \n",
    "This means that Noa's initial altitude was $400$ meters below sea level.\n",
    "\n",
    "Since $b = {-400}$ and $m={740}$, the desired formula is:\n",
    "\n",
    "$\\qquad A(t)={740}t{-400}$"
   ]
  },
  {
   "cell_type": "code",
   "execution_count": null,
   "metadata": {},
   "outputs": [],
   "source": []
  }
 ],
 "metadata": {
  "kernelspec": {
   "display_name": "Python 3",
   "language": "python",
   "name": "python3"
  },
  "language_info": {
   "codemirror_mode": {
    "name": "ipython",
    "version": 3
   },
   "file_extension": ".py",
   "mimetype": "text/x-python",
   "name": "python",
   "nbconvert_exporter": "python",
   "pygments_lexer": "ipython3",
   "version": "3.7.1"
  }
 },
 "nbformat": 4,
 "nbformat_minor": 2
}
