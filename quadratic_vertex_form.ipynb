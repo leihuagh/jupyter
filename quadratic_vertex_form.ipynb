{
  "nbformat": 4,
  "nbformat_minor": 0,
  "metadata": {
    "colab": {
      "name": "quadratic-vertex-form.ipynb",
      "version": "0.3.2",
      "provenance": [],
      "collapsed_sections": [],
      "include_colab_link": true
    },
    "kernelspec": {
      "name": "python3",
      "display_name": "Python 3"
    }
  },
  "cells": [
    {
      "cell_type": "markdown",
      "metadata": {
        "id": "view-in-github",
        "colab_type": "text"
      },
      "source": [
        "<a href=\"https://colab.research.google.com/github/porkostomus/jupyter/blob/master/quadratic_vertex_form.ipynb\" target=\"_parent\"><img src=\"https://colab.research.google.com/assets/colab-badge.svg\" alt=\"Open In Colab\"/></a>"
      ]
    },
    {
      "metadata": {
        "id": "AEBUX8Sst_YT",
        "colab_type": "text"
      },
      "cell_type": "markdown",
      "source": [
        "## Quadratics in vertex form \n",
        "\n",
        "**What is the vertex of the function?**\n",
        "\n",
        "$f(x)=3(x-2)^2+4$\n",
        "\n",
        "The function is given in vertex form.\n",
        "\n",
        "The coordinates of the vertex of a parabola in the form $a(x- h)^2+ k$ are $( h, k)$.\n",
        "\n",
        "The vertex of $3(x- 2)^2+ 4$ is at\n",
        "$( 2, 4)$."
      ]
    },
    {
      "metadata": {
        "id": "OhO5SM2Zth4e",
        "colab_type": "code",
        "colab": {
          "base_uri": "https://localhost:8080/",
          "height": 35
        },
        "outputId": "0d30bb2a-a480-47fe-bc95-627e7d0f8374"
      },
      "cell_type": "code",
      "source": [
        "from sympy import *\n",
        "\n",
        "x = Symbol('x')\n",
        "\n",
        "solveset(Eq(8*x**2 - 800, 0))"
      ],
      "execution_count": 1,
      "outputs": [
        {
          "output_type": "execute_result",
          "data": {
            "text/plain": [
              "{-10, 10}"
            ]
          },
          "metadata": {
            "tags": []
          },
          "execution_count": 1
        }
      ]
    },
    {
      "metadata": {
        "id": "i8u71TVO2BQW",
        "colab_type": "text"
      },
      "cell_type": "markdown",
      "source": [
        "$g(x)=2(x-3)^2-8$\n",
        "\n",
        "**1) What is the vertex of the function?**\n",
        "\n",
        "**2) Write one of the function's zeros (either one is accepted).**\n",
        "\n",
        "**3) Graph the function.**\n",
        "\n",
        "The function is given in *vertex form*.\n",
        "\n",
        "The coordinates of the vertex of a parabola in the form $a(x- h)^2+ k are $( h, k)$.\n",
        "\n",
        "So the vertex of $2(x- 3)^2{-8}$ is at\n",
        "$( 3,{-8})$.\n",
        "\n",
        "To find the zeros, we need to solve the equation $g(x)=0$:\n",
        "\n",
        "\\begin{aligned} 2(x-3)^2-8&=0 \\\\\\\\ 2(x-3)^2&=8 \\\\\\\\ (x-3)^2&=4 \\\\\\\\ \\sqrt{(x-3)^2}&=\\pm\\sqrt{4} \\\\\\\\ x-3&=\\pm 2 \\\\\\\\ x=5&\\text{ or }x=1 \\end{aligned}\n",
        "\n",
        "So the zeros of the function are $(5,0)$ and $(1,0)$.\n",
        "\n",
        "**In conclusion, the vertex of the parabola is at $(3,-8)$ and the zeros are\n",
        "$(5,0)$ and $(1,0)$.**\n",
        "\n",
        "**In order to graph, we need the vertex and another point. That other point can be one of the zeros we found, like $(1,0)$.**"
      ]
    },
    {
      "metadata": {
        "id": "a-YBgPDs5BMs",
        "colab_type": "code",
        "colab": {}
      },
      "cell_type": "code",
      "source": [
        ""
      ],
      "execution_count": 0,
      "outputs": []
    }
  ]
}