{
 "cells": [
  {
   "cell_type": "markdown",
   "metadata": {},
   "source": [
    "# Comparing linear functions\n",
    "\n",
    "## Red and blue submersibles\n",
    "\n",
    "Two submersibles, one red and one blue, started rising toward the surface at the same time. They each rose at a constant speed.\n",
    "\n",
    "The red submersible started rising from an altitude of $80$ meters below the surface. After $30$ seconds, it was $60$ meters below the surface.\n",
    "\n",
    "The following equation gives the altitude (in meters relative to the surface) of the blue submersible as a function of time (in seconds).\n",
    "\n",
    "$A=-90+0.6t$\n",
    "\n",
    "**Which submersible started rising from a higher altitude?**"
   ]
  },
  {
   "cell_type": "markdown",
   "metadata": {},
   "source": [
    "We are given that the red submersible started from $80$ meters below the surface, which is an altitude of $-80$ meters.\n",
    "\n",
    "The starting altitude of the blue submersible corresponds to the value of $A$ when $t=0$. To find it, all we need is to substitute $t={0}$ into the formula for $A$:"
   ]
  },
  {
   "cell_type": "code",
   "execution_count": 5,
   "metadata": {},
   "outputs": [
    {
     "data": {
      "text/plain": [
       "{-90}"
      ]
     },
     "execution_count": 5,
     "metadata": {},
     "output_type": "execute_result"
    }
   ],
   "source": [
    "from sympy import *\n",
    "A, t = symbols('A t')\n",
    "solveset(Eq(A, -90 + 0.6 * t).subs(t, 0), A) "
   ]
  },
  {
   "cell_type": "markdown",
   "metadata": {},
   "source": [
    "**Which submersible rose faster?**"
   ]
  },
  {
   "cell_type": "markdown",
   "metadata": {},
   "source": [
    "In addition to the fact that the red submersible started from an altitude of $-80$ meters, we are given that after $30$ seconds, it was at an altitude of $-60$ meters. The speed at which it rose is the ratio of the corresponding differences:"
   ]
  },
  {
   "cell_type": "code",
   "execution_count": 6,
   "metadata": {},
   "outputs": [
    {
     "data": {
      "text/plain": [
       "2/3"
      ]
     },
     "execution_count": 6,
     "metadata": {},
     "output_type": "execute_result"
    }
   ],
   "source": [
    "Rational(-60 - (-80), 30 - 0)"
   ]
  },
  {
   "cell_type": "markdown",
   "metadata": {},
   "source": [
    "This means that the red submersible rose at a speed of ${\\dfrac{2}{3}}$ meters per second.\n",
    "\n",
    "The speed at which the blue submersible rose is represented by the slope of the graph of $A =-90+0.6t$. Since the formula for $A$ is in slope-intercept form, we can determine that the slope is ${0.6}$. This means that the blue submersible rose at a speed of ${0.6}$ meters per second."
   ]
  },
  {
   "cell_type": "code",
   "execution_count": null,
   "metadata": {},
   "outputs": [],
   "source": []
  }
 ],
 "metadata": {
  "kernelspec": {
   "display_name": "Python 3",
   "language": "python",
   "name": "python3"
  },
  "language_info": {
   "codemirror_mode": {
    "name": "ipython",
    "version": 3
   },
   "file_extension": ".py",
   "mimetype": "text/x-python",
   "name": "python",
   "nbconvert_exporter": "python",
   "pygments_lexer": "ipython3",
   "version": "3.7.1"
  }
 },
 "nbformat": 4,
 "nbformat_minor": 2
}
